{
 "cells": [
  {
   "cell_type": "code",
   "execution_count": 1,
   "metadata": {
    "ExecuteTime": {
     "end_time": "2021-01-04T17:39:58.095181Z",
     "start_time": "2021-01-04T17:39:56.478700Z"
    }
   },
   "outputs": [],
   "source": [
    "import pandas as pd\n",
    "import numpy as np\n",
    "from datetime import datetime\n",
    "\n",
    "import seaborn as sns\n",
    "import matplotlib.pyplot as plt\n",
    "%matplotlib inline"
   ]
  },
  {
   "cell_type": "markdown",
   "metadata": {},
   "source": [
    "# Initial Setup\n",
    "Reading in the datafile and doing some updates to allow for better analysis"
   ]
  },
  {
   "cell_type": "code",
   "execution_count": 2,
   "metadata": {
    "ExecuteTime": {
     "end_time": "2021-01-04T17:39:58.121111Z",
     "start_time": "2021-01-04T17:39:58.096178Z"
    }
   },
   "outputs": [
    {
     "data": {
      "text/html": [
       "<div>\n",
       "<style scoped>\n",
       "    .dataframe tbody tr th:only-of-type {\n",
       "        vertical-align: middle;\n",
       "    }\n",
       "\n",
       "    .dataframe tbody tr th {\n",
       "        vertical-align: top;\n",
       "    }\n",
       "\n",
       "    .dataframe thead th {\n",
       "        text-align: right;\n",
       "    }\n",
       "</style>\n",
       "<table border=\"1\" class=\"dataframe\">\n",
       "  <thead>\n",
       "    <tr style=\"text-align: right;\">\n",
       "      <th></th>\n",
       "      <th>Year</th>\n",
       "      <th>Quarter</th>\n",
       "      <th>Month</th>\n",
       "      <th>Product</th>\n",
       "      <th>Revenue</th>\n",
       "      <th>Device</th>\n",
       "      <th>Format</th>\n",
       "      <th>Company</th>\n",
       "    </tr>\n",
       "  </thead>\n",
       "  <tbody>\n",
       "    <tr>\n",
       "      <td>0</td>\n",
       "      <td>2019</td>\n",
       "      <td>Qtr 3</td>\n",
       "      <td>September</td>\n",
       "      <td>Core</td>\n",
       "      <td>29698</td>\n",
       "      <td>Mobile</td>\n",
       "      <td>Display</td>\n",
       "      <td>Apple</td>\n",
       "    </tr>\n",
       "    <tr>\n",
       "      <td>1</td>\n",
       "      <td>2019</td>\n",
       "      <td>Qtr 3</td>\n",
       "      <td>September</td>\n",
       "      <td>Core</td>\n",
       "      <td>4171</td>\n",
       "      <td>Desktop</td>\n",
       "      <td>Display</td>\n",
       "      <td>Apple</td>\n",
       "    </tr>\n",
       "  </tbody>\n",
       "</table>\n",
       "</div>"
      ],
      "text/plain": [
       "   Year Quarter      Month Product  Revenue   Device   Format Company\n",
       "0  2019   Qtr 3  September    Core    29698   Mobile  Display   Apple\n",
       "1  2019   Qtr 3  September    Core     4171  Desktop  Display   Apple"
      ]
     },
     "execution_count": 2,
     "metadata": {},
     "output_type": "execute_result"
    }
   ],
   "source": [
    "# read in initial data\n",
    "df = pd.read_csv(\"data/sample_data.csv\")\n",
    "df.head(2)"
   ]
  },
  {
   "cell_type": "code",
   "execution_count": 3,
   "metadata": {
    "ExecuteTime": {
     "end_time": "2021-01-04T17:39:58.129096Z",
     "start_time": "2021-01-04T17:39:58.124105Z"
    }
   },
   "outputs": [],
   "source": [
    "# setup columns as all lowercase\n",
    "df.columns = df.columns.str.lower()"
   ]
  },
  {
   "cell_type": "code",
   "execution_count": 4,
   "metadata": {
    "ExecuteTime": {
     "end_time": "2021-01-04T17:39:58.168506Z",
     "start_time": "2021-01-04T17:39:58.132081Z"
    }
   },
   "outputs": [
    {
     "data": {
      "text/html": [
       "<div>\n",
       "<style scoped>\n",
       "    .dataframe tbody tr th:only-of-type {\n",
       "        vertical-align: middle;\n",
       "    }\n",
       "\n",
       "    .dataframe tbody tr th {\n",
       "        vertical-align: top;\n",
       "    }\n",
       "\n",
       "    .dataframe thead th {\n",
       "        text-align: right;\n",
       "    }\n",
       "</style>\n",
       "<table border=\"1\" class=\"dataframe\">\n",
       "  <thead>\n",
       "    <tr style=\"text-align: right;\">\n",
       "      <th></th>\n",
       "      <th>year</th>\n",
       "      <th>quarter</th>\n",
       "      <th>month</th>\n",
       "      <th>product</th>\n",
       "      <th>revenue</th>\n",
       "      <th>device</th>\n",
       "      <th>format</th>\n",
       "      <th>company</th>\n",
       "      <th>month_num</th>\n",
       "    </tr>\n",
       "  </thead>\n",
       "  <tbody>\n",
       "    <tr>\n",
       "      <td>0</td>\n",
       "      <td>2019</td>\n",
       "      <td>Qtr 3</td>\n",
       "      <td>September</td>\n",
       "      <td>Core</td>\n",
       "      <td>29698</td>\n",
       "      <td>Mobile</td>\n",
       "      <td>Display</td>\n",
       "      <td>Apple</td>\n",
       "      <td>9</td>\n",
       "    </tr>\n",
       "    <tr>\n",
       "      <td>1</td>\n",
       "      <td>2019</td>\n",
       "      <td>Qtr 3</td>\n",
       "      <td>September</td>\n",
       "      <td>Core</td>\n",
       "      <td>4171</td>\n",
       "      <td>Desktop</td>\n",
       "      <td>Display</td>\n",
       "      <td>Apple</td>\n",
       "      <td>9</td>\n",
       "    </tr>\n",
       "  </tbody>\n",
       "</table>\n",
       "</div>"
      ],
      "text/plain": [
       "   year quarter      month product  revenue   device   format company  \\\n",
       "0  2019   Qtr 3  September    Core    29698   Mobile  Display   Apple   \n",
       "1  2019   Qtr 3  September    Core     4171  Desktop  Display   Apple   \n",
       "\n",
       "   month_num  \n",
       "0          9  \n",
       "1          9  "
      ]
     },
     "execution_count": 4,
     "metadata": {},
     "output_type": "execute_result"
    }
   ],
   "source": [
    "# create month number column\n",
    "df['month_num'] = [datetime.strptime(x, '%B').month for x in df['month']]\n",
    "df.head(2)"
   ]
  },
  {
   "cell_type": "code",
   "execution_count": 5,
   "metadata": {
    "ExecuteTime": {
     "end_time": "2021-01-04T17:39:58.204410Z",
     "start_time": "2021-01-04T17:39:58.171499Z"
    }
   },
   "outputs": [
    {
     "name": "stdout",
     "output_type": "stream",
     "text": [
      "The date column is now datatype: datetime64[ns] \n",
      "\n",
      "Current column order is: \n",
      "Index(['year', 'quarter', 'month', 'product', 'revenue', 'device', 'format',\n",
      "       'company', 'month_num', 'date'],\n",
      "      dtype='object')\n"
     ]
    }
   ],
   "source": [
    "# create datetime formatted column, combining year and month\n",
    "df['date'] = pd.to_datetime(df['year'].astype(str) + '/' + df['month_num'].astype(str) + '/01', format=\"%Y/%m\")\n",
    "\n",
    "print(f\"The date column is now datatype: {df['date'].dtypes} \\n\")\n",
    "print(f\"Current column order is: \\n{df.columns}\")"
   ]
  },
  {
   "cell_type": "code",
   "execution_count": 6,
   "metadata": {
    "ExecuteTime": {
     "end_time": "2021-01-04T17:39:58.232334Z",
     "start_time": "2021-01-04T17:39:58.207402Z"
    }
   },
   "outputs": [
    {
     "data": {
      "text/html": [
       "<div>\n",
       "<style scoped>\n",
       "    .dataframe tbody tr th:only-of-type {\n",
       "        vertical-align: middle;\n",
       "    }\n",
       "\n",
       "    .dataframe tbody tr th {\n",
       "        vertical-align: top;\n",
       "    }\n",
       "\n",
       "    .dataframe thead th {\n",
       "        text-align: right;\n",
       "    }\n",
       "</style>\n",
       "<table border=\"1\" class=\"dataframe\">\n",
       "  <thead>\n",
       "    <tr style=\"text-align: right;\">\n",
       "      <th></th>\n",
       "      <th>date</th>\n",
       "      <th>year</th>\n",
       "      <th>quarter</th>\n",
       "      <th>month</th>\n",
       "      <th>month_num</th>\n",
       "      <th>company</th>\n",
       "      <th>product</th>\n",
       "      <th>device</th>\n",
       "      <th>format</th>\n",
       "      <th>revenue</th>\n",
       "    </tr>\n",
       "  </thead>\n",
       "  <tbody>\n",
       "    <tr>\n",
       "      <td>0</td>\n",
       "      <td>2019-09-01</td>\n",
       "      <td>2019</td>\n",
       "      <td>Qtr 3</td>\n",
       "      <td>September</td>\n",
       "      <td>9</td>\n",
       "      <td>Apple</td>\n",
       "      <td>Core</td>\n",
       "      <td>Mobile</td>\n",
       "      <td>Display</td>\n",
       "      <td>29698</td>\n",
       "    </tr>\n",
       "    <tr>\n",
       "      <td>1</td>\n",
       "      <td>2019-09-01</td>\n",
       "      <td>2019</td>\n",
       "      <td>Qtr 3</td>\n",
       "      <td>September</td>\n",
       "      <td>9</td>\n",
       "      <td>Apple</td>\n",
       "      <td>Core</td>\n",
       "      <td>Desktop</td>\n",
       "      <td>Display</td>\n",
       "      <td>4171</td>\n",
       "    </tr>\n",
       "    <tr>\n",
       "      <td>2</td>\n",
       "      <td>2019-08-01</td>\n",
       "      <td>2019</td>\n",
       "      <td>Qtr 3</td>\n",
       "      <td>August</td>\n",
       "      <td>8</td>\n",
       "      <td>Apple</td>\n",
       "      <td>Core</td>\n",
       "      <td>Mobile</td>\n",
       "      <td>Display</td>\n",
       "      <td>88938</td>\n",
       "    </tr>\n",
       "    <tr>\n",
       "      <td>3</td>\n",
       "      <td>2019-08-01</td>\n",
       "      <td>2019</td>\n",
       "      <td>Qtr 3</td>\n",
       "      <td>August</td>\n",
       "      <td>8</td>\n",
       "      <td>Apple</td>\n",
       "      <td>Core</td>\n",
       "      <td>Desktop</td>\n",
       "      <td>Display</td>\n",
       "      <td>10154</td>\n",
       "    </tr>\n",
       "    <tr>\n",
       "      <td>4</td>\n",
       "      <td>2019-07-01</td>\n",
       "      <td>2019</td>\n",
       "      <td>Qtr 3</td>\n",
       "      <td>July</td>\n",
       "      <td>7</td>\n",
       "      <td>Apple</td>\n",
       "      <td>Core</td>\n",
       "      <td>Mobile</td>\n",
       "      <td>Display</td>\n",
       "      <td>85092</td>\n",
       "    </tr>\n",
       "  </tbody>\n",
       "</table>\n",
       "</div>"
      ],
      "text/plain": [
       "        date  year quarter      month  month_num company product   device  \\\n",
       "0 2019-09-01  2019   Qtr 3  September          9   Apple    Core   Mobile   \n",
       "1 2019-09-01  2019   Qtr 3  September          9   Apple    Core  Desktop   \n",
       "2 2019-08-01  2019   Qtr 3     August          8   Apple    Core   Mobile   \n",
       "3 2019-08-01  2019   Qtr 3     August          8   Apple    Core  Desktop   \n",
       "4 2019-07-01  2019   Qtr 3       July          7   Apple    Core   Mobile   \n",
       "\n",
       "    format  revenue  \n",
       "0  Display    29698  \n",
       "1  Display     4171  \n",
       "2  Display    88938  \n",
       "3  Display    10154  \n",
       "4  Display    85092  "
      ]
     },
     "execution_count": 6,
     "metadata": {},
     "output_type": "execute_result"
    }
   ],
   "source": [
    "# reorder columns to group date fields (only readability reasons)\n",
    "df = df[['date', 'year', 'quarter', 'month', 'month_num', 'company', 'product', 'device', 'format', 'revenue']]\n",
    "df.head()"
   ]
  },
  {
   "cell_type": "markdown",
   "metadata": {},
   "source": [
    "# Questions"
   ]
  },
  {
   "cell_type": "markdown",
   "metadata": {},
   "source": [
    "## Question 1\n",
    "In how many quarters did “Orange” have more than $15K in “Social” revenue?"
   ]
  },
  {
   "cell_type": "code",
   "execution_count": 7,
   "metadata": {
    "ExecuteTime": {
     "end_time": "2021-01-04T17:39:58.267241Z",
     "start_time": "2021-01-04T17:39:58.235328Z"
    }
   },
   "outputs": [
    {
     "data": {
      "text/html": [
       "<div>\n",
       "<style scoped>\n",
       "    .dataframe tbody tr th:only-of-type {\n",
       "        vertical-align: middle;\n",
       "    }\n",
       "\n",
       "    .dataframe tbody tr th {\n",
       "        vertical-align: top;\n",
       "    }\n",
       "\n",
       "    .dataframe thead th {\n",
       "        text-align: right;\n",
       "    }\n",
       "</style>\n",
       "<table border=\"1\" class=\"dataframe\">\n",
       "  <thead>\n",
       "    <tr style=\"text-align: right;\">\n",
       "      <th></th>\n",
       "      <th>year</th>\n",
       "      <th>quarter</th>\n",
       "      <th>company</th>\n",
       "      <th>product</th>\n",
       "      <th>revenue</th>\n",
       "    </tr>\n",
       "  </thead>\n",
       "  <tbody>\n",
       "    <tr>\n",
       "      <td>57</td>\n",
       "      <td>2017</td>\n",
       "      <td>Qtr 4</td>\n",
       "      <td>Orange</td>\n",
       "      <td>Social</td>\n",
       "      <td>27423</td>\n",
       "    </tr>\n",
       "    <tr>\n",
       "      <td>77</td>\n",
       "      <td>2018</td>\n",
       "      <td>Qtr 1</td>\n",
       "      <td>Orange</td>\n",
       "      <td>Social</td>\n",
       "      <td>59855</td>\n",
       "    </tr>\n",
       "    <tr>\n",
       "      <td>97</td>\n",
       "      <td>2018</td>\n",
       "      <td>Qtr 2</td>\n",
       "      <td>Orange</td>\n",
       "      <td>Social</td>\n",
       "      <td>79679</td>\n",
       "    </tr>\n",
       "    <tr>\n",
       "      <td>116</td>\n",
       "      <td>2018</td>\n",
       "      <td>Qtr 3</td>\n",
       "      <td>Orange</td>\n",
       "      <td>Social</td>\n",
       "      <td>75458</td>\n",
       "    </tr>\n",
       "    <tr>\n",
       "      <td>135</td>\n",
       "      <td>2018</td>\n",
       "      <td>Qtr 4</td>\n",
       "      <td>Orange</td>\n",
       "      <td>Social</td>\n",
       "      <td>75075</td>\n",
       "    </tr>\n",
       "    <tr>\n",
       "      <td>153</td>\n",
       "      <td>2019</td>\n",
       "      <td>Qtr 1</td>\n",
       "      <td>Orange</td>\n",
       "      <td>Social</td>\n",
       "      <td>52670</td>\n",
       "    </tr>\n",
       "    <tr>\n",
       "      <td>172</td>\n",
       "      <td>2019</td>\n",
       "      <td>Qtr 2</td>\n",
       "      <td>Orange</td>\n",
       "      <td>Social</td>\n",
       "      <td>75734</td>\n",
       "    </tr>\n",
       "    <tr>\n",
       "      <td>190</td>\n",
       "      <td>2019</td>\n",
       "      <td>Qtr 3</td>\n",
       "      <td>Orange</td>\n",
       "      <td>Social</td>\n",
       "      <td>77461</td>\n",
       "    </tr>\n",
       "  </tbody>\n",
       "</table>\n",
       "</div>"
      ],
      "text/plain": [
       "     year quarter company product  revenue\n",
       "57   2017   Qtr 4  Orange  Social    27423\n",
       "77   2018   Qtr 1  Orange  Social    59855\n",
       "97   2018   Qtr 2  Orange  Social    79679\n",
       "116  2018   Qtr 3  Orange  Social    75458\n",
       "135  2018   Qtr 4  Orange  Social    75075\n",
       "153  2019   Qtr 1  Orange  Social    52670\n",
       "172  2019   Qtr 2  Orange  Social    75734\n",
       "190  2019   Qtr 3  Orange  Social    77461"
      ]
     },
     "execution_count": 7,
     "metadata": {},
     "output_type": "execute_result"
    }
   ],
   "source": [
    "# aggregate sum of revenue by year and quarter\n",
    "year_qtr_df = df.groupby(['year', 'quarter', 'company', 'product']).agg({'revenue': 'sum'}).reset_index()\n",
    "\n",
    "# filter by orange and social\n",
    "orange_soc_df = year_qtr_df.loc[(year_qtr_df['revenue'] > 15000) & \n",
    "                (year_qtr_df['product'] == 'Social') &\n",
    "                (year_qtr_df['company'] == 'Orange')]\n",
    "orange_soc_df"
   ]
  },
  {
   "cell_type": "code",
   "execution_count": 8,
   "metadata": {
    "ExecuteTime": {
     "end_time": "2021-01-04T17:39:58.277215Z",
     "start_time": "2021-01-04T17:39:58.271232Z"
    }
   },
   "outputs": [
    {
     "name": "stdout",
     "output_type": "stream",
     "text": [
      "Orange company has had 8 quarters with more than 15K in Social revenue\n"
     ]
    }
   ],
   "source": [
    "# answer question\n",
    "orange_soc_count = len(orange_soc_df['revenue'])\n",
    "print(f'Orange company has had {orange_soc_count} quarters with more than 15K in Social revenue')"
   ]
  },
  {
   "cell_type": "markdown",
   "metadata": {},
   "source": [
    "## Question 2\n",
    "What was the average quarter-over-quarter (QoQ) growth in revenue among\n",
    "companies from Q2 to Q3 in 2018?"
   ]
  },
  {
   "cell_type": "code",
   "execution_count": 9,
   "metadata": {
    "ExecuteTime": {
     "end_time": "2021-01-04T17:39:58.301152Z",
     "start_time": "2021-01-04T17:39:58.284209Z"
    }
   },
   "outputs": [
    {
     "name": "stdout",
     "output_type": "stream",
     "text": [
      "unique years:  [2018]\n",
      "unique quarters:  ['Qtr 3' 'Qtr 2']\n"
     ]
    }
   ],
   "source": [
    "# filter by 2018 quarters 2 and 3\n",
    "Q2_Q3_2018_df = df[(df['date'].dt.year == 2018) & (df['date'].dt.quarter.isin([2,3]))]\n",
    "print(f\"unique years:  {Q2_Q3_2018_df['year'].unique()}\")\n",
    "print(f\"unique quarters:  {Q2_Q3_2018_df['quarter'].unique()}\")"
   ]
  },
  {
   "cell_type": "code",
   "execution_count": 10,
   "metadata": {
    "ExecuteTime": {
     "end_time": "2021-01-04T17:39:58.337057Z",
     "start_time": "2021-01-04T17:39:58.303146Z"
    }
   },
   "outputs": [
    {
     "data": {
      "text/html": [
       "<div>\n",
       "<style scoped>\n",
       "    .dataframe tbody tr th:only-of-type {\n",
       "        vertical-align: middle;\n",
       "    }\n",
       "\n",
       "    .dataframe tbody tr th {\n",
       "        vertical-align: top;\n",
       "    }\n",
       "\n",
       "    .dataframe thead tr th {\n",
       "        text-align: left;\n",
       "    }\n",
       "\n",
       "    .dataframe thead tr:last-of-type th {\n",
       "        text-align: right;\n",
       "    }\n",
       "</style>\n",
       "<table border=\"1\" class=\"dataframe\">\n",
       "  <thead>\n",
       "    <tr>\n",
       "      <th></th>\n",
       "      <th colspan=\"2\" halign=\"left\">revenue</th>\n",
       "    </tr>\n",
       "    <tr>\n",
       "      <th>quarter</th>\n",
       "      <th>Qtr 2</th>\n",
       "      <th>Qtr 3</th>\n",
       "    </tr>\n",
       "    <tr>\n",
       "      <th>company</th>\n",
       "      <th></th>\n",
       "      <th></th>\n",
       "    </tr>\n",
       "  </thead>\n",
       "  <tbody>\n",
       "    <tr>\n",
       "      <td>Amazon</td>\n",
       "      <td>73947.0</td>\n",
       "      <td>50096.0</td>\n",
       "    </tr>\n",
       "    <tr>\n",
       "      <td>Apple</td>\n",
       "      <td>178898.0</td>\n",
       "      <td>156500.0</td>\n",
       "    </tr>\n",
       "  </tbody>\n",
       "</table>\n",
       "</div>"
      ],
      "text/plain": [
       "          revenue          \n",
       "quarter     Qtr 2     Qtr 3\n",
       "company                    \n",
       "Amazon    73947.0   50096.0\n",
       "Apple    178898.0  156500.0"
      ]
     },
     "execution_count": 10,
     "metadata": {},
     "output_type": "execute_result"
    }
   ],
   "source": [
    "# group by company, aggregate revenue\n",
    "pivot_comp_rev_df = Q2_Q3_2018_df.pivot_table(index='company', columns='quarter', aggfunc={'revenue': 'sum'}).fillna(0)\n",
    "pivot_comp_rev_df.head(2)"
   ]
  },
  {
   "cell_type": "code",
   "execution_count": 11,
   "metadata": {
    "ExecuteTime": {
     "end_time": "2021-01-04T17:39:58.347029Z",
     "start_time": "2021-01-04T17:39:58.341047Z"
    }
   },
   "outputs": [],
   "source": [
    "# I prefer to flatten the columns as opposed to the multi-index, so have this function I may use after pivoting data\n",
    "def flatten_cols(df):\n",
    "    df.columns = [\n",
    "        '_'.join(tuple(map(str, t))).strip() \n",
    "        for t in df.columns.values\n",
    "        ]\n",
    "    return df"
   ]
  },
  {
   "cell_type": "code",
   "execution_count": 12,
   "metadata": {
    "ExecuteTime": {
     "end_time": "2021-01-04T17:39:58.364986Z",
     "start_time": "2021-01-04T17:39:58.351018Z"
    }
   },
   "outputs": [
    {
     "data": {
      "text/html": [
       "<div>\n",
       "<style scoped>\n",
       "    .dataframe tbody tr th:only-of-type {\n",
       "        vertical-align: middle;\n",
       "    }\n",
       "\n",
       "    .dataframe tbody tr th {\n",
       "        vertical-align: top;\n",
       "    }\n",
       "\n",
       "    .dataframe thead th {\n",
       "        text-align: right;\n",
       "    }\n",
       "</style>\n",
       "<table border=\"1\" class=\"dataframe\">\n",
       "  <thead>\n",
       "    <tr style=\"text-align: right;\">\n",
       "      <th></th>\n",
       "      <th>revenue_Qtr 2</th>\n",
       "      <th>revenue_Qtr 3</th>\n",
       "    </tr>\n",
       "    <tr>\n",
       "      <th>company</th>\n",
       "      <th></th>\n",
       "      <th></th>\n",
       "    </tr>\n",
       "  </thead>\n",
       "  <tbody>\n",
       "    <tr>\n",
       "      <td>Amazon</td>\n",
       "      <td>73947.0</td>\n",
       "      <td>50096.0</td>\n",
       "    </tr>\n",
       "    <tr>\n",
       "      <td>Apple</td>\n",
       "      <td>178898.0</td>\n",
       "      <td>156500.0</td>\n",
       "    </tr>\n",
       "  </tbody>\n",
       "</table>\n",
       "</div>"
      ],
      "text/plain": [
       "         revenue_Qtr 2  revenue_Qtr 3\n",
       "company                              \n",
       "Amazon         73947.0        50096.0\n",
       "Apple         178898.0       156500.0"
      ]
     },
     "execution_count": 12,
     "metadata": {},
     "output_type": "execute_result"
    }
   ],
   "source": [
    "# flatten index\n",
    "comp_rev_df = flatten_cols(pivot_comp_rev_df)\n",
    "comp_rev_df.head(2)"
   ]
  },
  {
   "cell_type": "code",
   "execution_count": 13,
   "metadata": {
    "ExecuteTime": {
     "end_time": "2021-01-04T17:39:58.376952Z",
     "start_time": "2021-01-04T17:39:58.370965Z"
    }
   },
   "outputs": [],
   "source": [
    "# rename columns for readability and to be more explicit\n",
    "comp_rev_df.columns = ['2018_Q2_revenue', '2018_Q3_revenue']"
   ]
  },
  {
   "cell_type": "code",
   "execution_count": 14,
   "metadata": {
    "ExecuteTime": {
     "end_time": "2021-01-04T17:39:58.397908Z",
     "start_time": "2021-01-04T17:39:58.379940Z"
    }
   },
   "outputs": [
    {
     "data": {
      "text/html": [
       "<div>\n",
       "<style scoped>\n",
       "    .dataframe tbody tr th:only-of-type {\n",
       "        vertical-align: middle;\n",
       "    }\n",
       "\n",
       "    .dataframe tbody tr th {\n",
       "        vertical-align: top;\n",
       "    }\n",
       "\n",
       "    .dataframe thead th {\n",
       "        text-align: right;\n",
       "    }\n",
       "</style>\n",
       "<table border=\"1\" class=\"dataframe\">\n",
       "  <thead>\n",
       "    <tr style=\"text-align: right;\">\n",
       "      <th></th>\n",
       "      <th>2018_Q2_revenue</th>\n",
       "      <th>2018_Q3_revenue</th>\n",
       "      <th>QoQ_change_perc</th>\n",
       "    </tr>\n",
       "    <tr>\n",
       "      <th>company</th>\n",
       "      <th></th>\n",
       "      <th></th>\n",
       "      <th></th>\n",
       "    </tr>\n",
       "  </thead>\n",
       "  <tbody>\n",
       "    <tr>\n",
       "      <td>Amazon</td>\n",
       "      <td>73947.0</td>\n",
       "      <td>50096.0</td>\n",
       "      <td>-32.254182</td>\n",
       "    </tr>\n",
       "    <tr>\n",
       "      <td>Apple</td>\n",
       "      <td>178898.0</td>\n",
       "      <td>156500.0</td>\n",
       "      <td>-12.519983</td>\n",
       "    </tr>\n",
       "    <tr>\n",
       "      <td>Ganges</td>\n",
       "      <td>147428.0</td>\n",
       "      <td>137777.0</td>\n",
       "      <td>-6.546246</td>\n",
       "    </tr>\n",
       "    <tr>\n",
       "      <td>Grape</td>\n",
       "      <td>194384.0</td>\n",
       "      <td>0.0</td>\n",
       "      <td>-100.000000</td>\n",
       "    </tr>\n",
       "    <tr>\n",
       "      <td>Kiwi</td>\n",
       "      <td>110770.0</td>\n",
       "      <td>134222.0</td>\n",
       "      <td>21.171797</td>\n",
       "    </tr>\n",
       "    <tr>\n",
       "      <td>Mississippi</td>\n",
       "      <td>128858.0</td>\n",
       "      <td>77362.0</td>\n",
       "      <td>-39.963371</td>\n",
       "    </tr>\n",
       "    <tr>\n",
       "      <td>Nile</td>\n",
       "      <td>49581.0</td>\n",
       "      <td>249745.0</td>\n",
       "      <td>403.711099</td>\n",
       "    </tr>\n",
       "    <tr>\n",
       "      <td>Orange</td>\n",
       "      <td>138005.0</td>\n",
       "      <td>165222.0</td>\n",
       "      <td>19.721749</td>\n",
       "    </tr>\n",
       "    <tr>\n",
       "      <td>Pear</td>\n",
       "      <td>40028.0</td>\n",
       "      <td>568973.0</td>\n",
       "      <td>1321.437494</td>\n",
       "    </tr>\n",
       "    <tr>\n",
       "      <td>Yangtze</td>\n",
       "      <td>339614.0</td>\n",
       "      <td>375696.0</td>\n",
       "      <td>10.624415</td>\n",
       "    </tr>\n",
       "  </tbody>\n",
       "</table>\n",
       "</div>"
      ],
      "text/plain": [
       "             2018_Q2_revenue  2018_Q3_revenue  QoQ_change_perc\n",
       "company                                                       \n",
       "Amazon               73947.0          50096.0       -32.254182\n",
       "Apple               178898.0         156500.0       -12.519983\n",
       "Ganges              147428.0         137777.0        -6.546246\n",
       "Grape               194384.0              0.0      -100.000000\n",
       "Kiwi                110770.0         134222.0        21.171797\n",
       "Mississippi         128858.0          77362.0       -39.963371\n",
       "Nile                 49581.0         249745.0       403.711099\n",
       "Orange              138005.0         165222.0        19.721749\n",
       "Pear                 40028.0         568973.0      1321.437494\n",
       "Yangtze             339614.0         375696.0        10.624415"
      ]
     },
     "execution_count": 14,
     "metadata": {},
     "output_type": "execute_result"
    }
   ],
   "source": [
    "# add quarter over quarter change by company\n",
    "comp_rev_df['QoQ_change_perc'] = ((comp_rev_df['2018_Q3_revenue'] / comp_rev_df['2018_Q2_revenue']) -1) * 100\n",
    "comp_rev_df"
   ]
  },
  {
   "cell_type": "code",
   "execution_count": 15,
   "metadata": {
    "ExecuteTime": {
     "end_time": "2021-01-04T17:39:58.414847Z",
     "start_time": "2021-01-04T17:39:58.401883Z"
    }
   },
   "outputs": [
    {
     "data": {
      "text/plain": [
       "count      10.000000\n",
       "mean      158.538277\n",
       "std       430.970858\n",
       "min      -100.000000\n",
       "25%       -27.320632\n",
       "50%         2.039084\n",
       "75%        20.809285\n",
       "max      1321.437494\n",
       "Name: QoQ_change_perc, dtype: float64"
      ]
     },
     "execution_count": 15,
     "metadata": {},
     "output_type": "execute_result"
    }
   ],
   "source": [
    "# stats on quarter over quarter performance\n",
    "QoQ_stats = comp_rev_df['QoQ_change_perc'].describe()\n",
    "QoQ_stats"
   ]
  },
  {
   "cell_type": "code",
   "execution_count": 16,
   "metadata": {
    "ExecuteTime": {
     "end_time": "2021-01-04T17:39:58.425817Z",
     "start_time": "2021-01-04T17:39:58.417839Z"
    }
   },
   "outputs": [
    {
     "name": "stdout",
     "output_type": "stream",
     "text": [
      "The average growth of revenue by company from Q2-2018 to Q3-2018 was 158.5%\n",
      "The overall revenue growth from Q2-2018 to Q3-2018 was 36.7%\n"
     ]
    }
   ],
   "source": [
    "# answer question\n",
    "\n",
    "# average growth\n",
    "print(f\"The average growth of revenue by company from Q2-2018 to Q3-2018 was {QoQ_stats['mean'].round(1)}%\")\n",
    "\n",
    "# overall growth\n",
    "overall_growth = (sum(comp_rev_df['2018_Q3_revenue']) / sum(comp_rev_df['2018_Q2_revenue']) -1 )* 100\n",
    "print(f\"The overall revenue growth from Q2-2018 to Q3-2018 was {round(overall_growth, 1)}%\")"
   ]
  },
  {
   "cell_type": "markdown",
   "metadata": {
    "ExecuteTime": {
     "end_time": "2021-01-04T02:55:26.647843Z",
     "start_time": "2021-01-04T02:55:26.643849Z"
    }
   },
   "source": [
    "## Question 3\n",
    "List the companies by the number of months they have spent as a client, in\n",
    "descending order.\n"
   ]
  },
  {
   "cell_type": "code",
   "execution_count": 17,
   "metadata": {
    "ExecuteTime": {
     "end_time": "2021-01-04T17:39:58.448756Z",
     "start_time": "2021-01-04T17:39:58.428811Z"
    }
   },
   "outputs": [
    {
     "data": {
      "text/html": [
       "<div>\n",
       "<style scoped>\n",
       "    .dataframe tbody tr th:only-of-type {\n",
       "        vertical-align: middle;\n",
       "    }\n",
       "\n",
       "    .dataframe tbody tr th {\n",
       "        vertical-align: top;\n",
       "    }\n",
       "\n",
       "    .dataframe thead th {\n",
       "        text-align: right;\n",
       "    }\n",
       "</style>\n",
       "<table border=\"1\" class=\"dataframe\">\n",
       "  <thead>\n",
       "    <tr style=\"text-align: right;\">\n",
       "      <th></th>\n",
       "      <th>company</th>\n",
       "      <th>count_of_months</th>\n",
       "    </tr>\n",
       "  </thead>\n",
       "  <tbody>\n",
       "    <tr>\n",
       "      <td>0</td>\n",
       "      <td>Kiwi</td>\n",
       "      <td>255</td>\n",
       "    </tr>\n",
       "    <tr>\n",
       "      <td>1</td>\n",
       "      <td>Ganges</td>\n",
       "      <td>218</td>\n",
       "    </tr>\n",
       "    <tr>\n",
       "      <td>2</td>\n",
       "      <td>Amazon</td>\n",
       "      <td>216</td>\n",
       "    </tr>\n",
       "    <tr>\n",
       "      <td>3</td>\n",
       "      <td>Orange</td>\n",
       "      <td>205</td>\n",
       "    </tr>\n",
       "    <tr>\n",
       "      <td>4</td>\n",
       "      <td>Mississippi</td>\n",
       "      <td>201</td>\n",
       "    </tr>\n",
       "    <tr>\n",
       "      <td>5</td>\n",
       "      <td>Yangtze</td>\n",
       "      <td>66</td>\n",
       "    </tr>\n",
       "    <tr>\n",
       "      <td>6</td>\n",
       "      <td>Apple</td>\n",
       "      <td>52</td>\n",
       "    </tr>\n",
       "    <tr>\n",
       "      <td>7</td>\n",
       "      <td>Pear</td>\n",
       "      <td>16</td>\n",
       "    </tr>\n",
       "    <tr>\n",
       "      <td>8</td>\n",
       "      <td>Nile</td>\n",
       "      <td>15</td>\n",
       "    </tr>\n",
       "    <tr>\n",
       "      <td>9</td>\n",
       "      <td>Grape</td>\n",
       "      <td>7</td>\n",
       "    </tr>\n",
       "  </tbody>\n",
       "</table>\n",
       "</div>"
      ],
      "text/plain": [
       "       company  count_of_months\n",
       "0         Kiwi              255\n",
       "1       Ganges              218\n",
       "2       Amazon              216\n",
       "3       Orange              205\n",
       "4  Mississippi              201\n",
       "5      Yangtze               66\n",
       "6        Apple               52\n",
       "7         Pear               16\n",
       "8         Nile               15\n",
       "9        Grape                7"
      ]
     },
     "execution_count": 17,
     "metadata": {},
     "output_type": "execute_result"
    }
   ],
   "source": [
    "# answer question\n",
    "\n",
    "# group by company and aggregate date by count\n",
    "month_count_df = df.groupby(['company']).agg({'date': 'count'})\n",
    "month_count_df = month_count_df.rename(columns={'date': 'count_of_months'})\n",
    "month_count_df.sort_values(by='count_of_months', ascending=False).reset_index()"
   ]
  },
  {
   "cell_type": "markdown",
   "metadata": {
    "ExecuteTime": {
     "end_time": "2021-01-04T02:55:56.450805Z",
     "start_time": "2021-01-04T02:55:56.445818Z"
    }
   },
   "source": [
    "## Question 4\n",
    "In each year, what percentage of “Core” revenue has come from video?"
   ]
  },
  {
   "cell_type": "code",
   "execution_count": 18,
   "metadata": {
    "ExecuteTime": {
     "end_time": "2021-01-04T17:39:58.477678Z",
     "start_time": "2021-01-04T17:39:58.451747Z"
    }
   },
   "outputs": [
    {
     "data": {
      "text/html": [
       "<div>\n",
       "<style scoped>\n",
       "    .dataframe tbody tr th:only-of-type {\n",
       "        vertical-align: middle;\n",
       "    }\n",
       "\n",
       "    .dataframe tbody tr th {\n",
       "        vertical-align: top;\n",
       "    }\n",
       "\n",
       "    .dataframe thead th {\n",
       "        text-align: right;\n",
       "    }\n",
       "</style>\n",
       "<table border=\"1\" class=\"dataframe\">\n",
       "  <thead>\n",
       "    <tr style=\"text-align: right;\">\n",
       "      <th></th>\n",
       "      <th>date</th>\n",
       "      <th>year</th>\n",
       "      <th>quarter</th>\n",
       "      <th>month</th>\n",
       "      <th>month_num</th>\n",
       "      <th>company</th>\n",
       "      <th>product</th>\n",
       "      <th>device</th>\n",
       "      <th>format</th>\n",
       "      <th>revenue</th>\n",
       "    </tr>\n",
       "  </thead>\n",
       "  <tbody>\n",
       "    <tr>\n",
       "      <td>0</td>\n",
       "      <td>2019-09-01</td>\n",
       "      <td>2019</td>\n",
       "      <td>Qtr 3</td>\n",
       "      <td>September</td>\n",
       "      <td>9</td>\n",
       "      <td>Apple</td>\n",
       "      <td>Core</td>\n",
       "      <td>Mobile</td>\n",
       "      <td>Display</td>\n",
       "      <td>29698</td>\n",
       "    </tr>\n",
       "    <tr>\n",
       "      <td>1</td>\n",
       "      <td>2019-09-01</td>\n",
       "      <td>2019</td>\n",
       "      <td>Qtr 3</td>\n",
       "      <td>September</td>\n",
       "      <td>9</td>\n",
       "      <td>Apple</td>\n",
       "      <td>Core</td>\n",
       "      <td>Desktop</td>\n",
       "      <td>Display</td>\n",
       "      <td>4171</td>\n",
       "    </tr>\n",
       "  </tbody>\n",
       "</table>\n",
       "</div>"
      ],
      "text/plain": [
       "        date  year quarter      month  month_num company product   device  \\\n",
       "0 2019-09-01  2019   Qtr 3  September          9   Apple    Core   Mobile   \n",
       "1 2019-09-01  2019   Qtr 3  September          9   Apple    Core  Desktop   \n",
       "\n",
       "    format  revenue  \n",
       "0  Display    29698  \n",
       "1  Display     4171  "
      ]
     },
     "execution_count": 18,
     "metadata": {},
     "output_type": "execute_result"
    }
   ],
   "source": [
    "# filter by only core product\n",
    "core_df = df.loc[(df['product'] == \"Core\")]\n",
    "core_df.head(2)"
   ]
  },
  {
   "cell_type": "code",
   "execution_count": 19,
   "metadata": {
    "ExecuteTime": {
     "end_time": "2021-01-04T17:39:58.513585Z",
     "start_time": "2021-01-04T17:39:58.481669Z"
    }
   },
   "outputs": [
    {
     "data": {
      "text/html": [
       "<div>\n",
       "<style scoped>\n",
       "    .dataframe tbody tr th:only-of-type {\n",
       "        vertical-align: middle;\n",
       "    }\n",
       "\n",
       "    .dataframe tbody tr th {\n",
       "        vertical-align: top;\n",
       "    }\n",
       "\n",
       "    .dataframe thead th {\n",
       "        text-align: right;\n",
       "    }\n",
       "</style>\n",
       "<table border=\"1\" class=\"dataframe\">\n",
       "  <thead>\n",
       "    <tr style=\"text-align: right;\">\n",
       "      <th></th>\n",
       "      <th>revenue_Display</th>\n",
       "      <th>revenue_Video</th>\n",
       "      <th>core_revenue_total</th>\n",
       "    </tr>\n",
       "    <tr>\n",
       "      <th>year</th>\n",
       "      <th></th>\n",
       "      <th></th>\n",
       "      <th></th>\n",
       "    </tr>\n",
       "  </thead>\n",
       "  <tbody>\n",
       "    <tr>\n",
       "      <td>2017</td>\n",
       "      <td>3213743</td>\n",
       "      <td>14975</td>\n",
       "      <td>3228718</td>\n",
       "    </tr>\n",
       "    <tr>\n",
       "      <td>2018</td>\n",
       "      <td>6453001</td>\n",
       "      <td>22784</td>\n",
       "      <td>6475785</td>\n",
       "    </tr>\n",
       "    <tr>\n",
       "      <td>2019</td>\n",
       "      <td>3912259</td>\n",
       "      <td>25137</td>\n",
       "      <td>3937396</td>\n",
       "    </tr>\n",
       "  </tbody>\n",
       "</table>\n",
       "</div>"
      ],
      "text/plain": [
       "      revenue_Display  revenue_Video  core_revenue_total\n",
       "year                                                    \n",
       "2017          3213743          14975             3228718\n",
       "2018          6453001          22784             6475785\n",
       "2019          3912259          25137             3937396"
      ]
     },
     "execution_count": 19,
     "metadata": {},
     "output_type": "execute_result"
    }
   ],
   "source": [
    "# group by company, aggregate revenue\n",
    "pivot_year_core_df = core_df.pivot_table(index='year', columns='format', aggfunc={'revenue': 'sum'}).fillna(0)\n",
    "\n",
    "# flatten index\n",
    "year_core_df = flatten_cols(pivot_year_core_df)\n",
    "\n",
    "# add a total revenue column\n",
    "year_core_df['core_revenue_total'] = year_core_df.sum(numeric_only=True, axis=1)\n",
    "year_core_df"
   ]
  },
  {
   "cell_type": "code",
   "execution_count": 20,
   "metadata": {
    "ExecuteTime": {
     "end_time": "2021-01-04T17:39:58.530543Z",
     "start_time": "2021-01-04T17:39:58.516577Z"
    }
   },
   "outputs": [
    {
     "data": {
      "text/html": [
       "<div>\n",
       "<style scoped>\n",
       "    .dataframe tbody tr th:only-of-type {\n",
       "        vertical-align: middle;\n",
       "    }\n",
       "\n",
       "    .dataframe tbody tr th {\n",
       "        vertical-align: top;\n",
       "    }\n",
       "\n",
       "    .dataframe thead th {\n",
       "        text-align: right;\n",
       "    }\n",
       "</style>\n",
       "<table border=\"1\" class=\"dataframe\">\n",
       "  <thead>\n",
       "    <tr style=\"text-align: right;\">\n",
       "      <th></th>\n",
       "      <th>year</th>\n",
       "      <th>revenue_Display</th>\n",
       "      <th>revenue_Video</th>\n",
       "      <th>core_revenue_total</th>\n",
       "    </tr>\n",
       "  </thead>\n",
       "  <tbody>\n",
       "    <tr>\n",
       "      <td>0</td>\n",
       "      <td>2017</td>\n",
       "      <td>99.536194</td>\n",
       "      <td>0.463806</td>\n",
       "      <td>100.0</td>\n",
       "    </tr>\n",
       "    <tr>\n",
       "      <td>1</td>\n",
       "      <td>2018</td>\n",
       "      <td>99.648166</td>\n",
       "      <td>0.351834</td>\n",
       "      <td>100.0</td>\n",
       "    </tr>\n",
       "    <tr>\n",
       "      <td>2</td>\n",
       "      <td>2019</td>\n",
       "      <td>99.361583</td>\n",
       "      <td>0.638417</td>\n",
       "      <td>100.0</td>\n",
       "    </tr>\n",
       "  </tbody>\n",
       "</table>\n",
       "</div>"
      ],
      "text/plain": [
       "   year  revenue_Display  revenue_Video  core_revenue_total\n",
       "0  2017        99.536194       0.463806               100.0\n",
       "1  2018        99.648166       0.351834               100.0\n",
       "2  2019        99.361583       0.638417               100.0"
      ]
     },
     "execution_count": 20,
     "metadata": {},
     "output_type": "execute_result"
    }
   ],
   "source": [
    "# convert to percentages\n",
    "year_core_perc_df = year_core_df.div(year_core_df['core_revenue_total'], axis=0) * 100 \n",
    "year_core_perc_df = year_core_perc_df.reset_index()\n",
    "year_core_perc_df"
   ]
  },
  {
   "cell_type": "code",
   "execution_count": 21,
   "metadata": {
    "ExecuteTime": {
     "end_time": "2021-01-04T17:39:58.539514Z",
     "start_time": "2021-01-04T17:39:58.533529Z"
    }
   },
   "outputs": [
    {
     "name": "stdout",
     "output_type": "stream",
     "text": [
      "In 2017 Core product had a 0.46% of its revenue come from video\n",
      "In 2018 Core product had a 0.35% of its revenue come from video\n",
      "In 2019 Core product had a 0.64% of its revenue come from video\n",
      "\n",
      "Overall, a fairly small percentage at below 1% in each year\n"
     ]
    }
   ],
   "source": [
    "# answer question\n",
    "for row in year_core_perc_df.itertuples():\n",
    "    print(f\"In {row.year} Core product had a {round(row.revenue_Video, 2)}% of its revenue come from video\")\n",
    "\n",
    "print(\"\\nOverall, a fairly small percentage at below 1% in each year\")"
   ]
  },
  {
   "cell_type": "markdown",
   "metadata": {
    "ExecuteTime": {
     "end_time": "2021-01-04T02:56:19.548596Z",
     "start_time": "2021-01-04T02:56:19.541580Z"
    }
   },
   "source": [
    "## Question 5\n",
    "Which month saw the highest month-over-month (MoM) percent change in total\n",
    "revenue?"
   ]
  },
  {
   "cell_type": "code",
   "execution_count": 22,
   "metadata": {
    "ExecuteTime": {
     "end_time": "2021-01-04T17:39:58.558462Z",
     "start_time": "2021-01-04T17:39:58.542506Z"
    }
   },
   "outputs": [
    {
     "data": {
      "text/html": [
       "<div>\n",
       "<style scoped>\n",
       "    .dataframe tbody tr th:only-of-type {\n",
       "        vertical-align: middle;\n",
       "    }\n",
       "\n",
       "    .dataframe tbody tr th {\n",
       "        vertical-align: top;\n",
       "    }\n",
       "\n",
       "    .dataframe thead th {\n",
       "        text-align: right;\n",
       "    }\n",
       "</style>\n",
       "<table border=\"1\" class=\"dataframe\">\n",
       "  <thead>\n",
       "    <tr style=\"text-align: right;\">\n",
       "      <th></th>\n",
       "      <th>revenue</th>\n",
       "    </tr>\n",
       "    <tr>\n",
       "      <th>date</th>\n",
       "      <th></th>\n",
       "    </tr>\n",
       "  </thead>\n",
       "  <tbody>\n",
       "    <tr>\n",
       "      <td>2017-01-01</td>\n",
       "      <td>188665</td>\n",
       "    </tr>\n",
       "    <tr>\n",
       "      <td>2017-02-01</td>\n",
       "      <td>230227</td>\n",
       "    </tr>\n",
       "    <tr>\n",
       "      <td>2017-03-01</td>\n",
       "      <td>304013</td>\n",
       "    </tr>\n",
       "    <tr>\n",
       "      <td>2017-04-01</td>\n",
       "      <td>195051</td>\n",
       "    </tr>\n",
       "    <tr>\n",
       "      <td>2017-05-01</td>\n",
       "      <td>243337</td>\n",
       "    </tr>\n",
       "  </tbody>\n",
       "</table>\n",
       "</div>"
      ],
      "text/plain": [
       "            revenue\n",
       "date               \n",
       "2017-01-01   188665\n",
       "2017-02-01   230227\n",
       "2017-03-01   304013\n",
       "2017-04-01   195051\n",
       "2017-05-01   243337"
      ]
     },
     "execution_count": 22,
     "metadata": {},
     "output_type": "execute_result"
    }
   ],
   "source": [
    "# aggregate revenue by month\n",
    "month_rev_df = df.groupby('date').agg({'revenue': 'sum'})\n",
    "month_rev_df.head()"
   ]
  },
  {
   "cell_type": "code",
   "execution_count": 33,
   "metadata": {
    "ExecuteTime": {
     "end_time": "2021-01-04T17:43:13.946752Z",
     "start_time": "2021-01-04T17:43:13.936778Z"
    }
   },
   "outputs": [
    {
     "data": {
      "text/html": [
       "<div>\n",
       "<style scoped>\n",
       "    .dataframe tbody tr th:only-of-type {\n",
       "        vertical-align: middle;\n",
       "    }\n",
       "\n",
       "    .dataframe tbody tr th {\n",
       "        vertical-align: top;\n",
       "    }\n",
       "\n",
       "    .dataframe thead th {\n",
       "        text-align: right;\n",
       "    }\n",
       "</style>\n",
       "<table border=\"1\" class=\"dataframe\">\n",
       "  <thead>\n",
       "    <tr style=\"text-align: right;\">\n",
       "      <th></th>\n",
       "      <th>revenue</th>\n",
       "      <th>percent_change</th>\n",
       "    </tr>\n",
       "    <tr>\n",
       "      <th>date</th>\n",
       "      <th></th>\n",
       "      <th></th>\n",
       "    </tr>\n",
       "  </thead>\n",
       "  <tbody>\n",
       "    <tr>\n",
       "      <td>2017-01-01</td>\n",
       "      <td>188665</td>\n",
       "      <td>NaN</td>\n",
       "    </tr>\n",
       "    <tr>\n",
       "      <td>2017-02-01</td>\n",
       "      <td>230227</td>\n",
       "      <td>22.029523</td>\n",
       "    </tr>\n",
       "    <tr>\n",
       "      <td>2017-03-01</td>\n",
       "      <td>304013</td>\n",
       "      <td>32.049238</td>\n",
       "    </tr>\n",
       "    <tr>\n",
       "      <td>2017-04-01</td>\n",
       "      <td>195051</td>\n",
       "      <td>-35.841230</td>\n",
       "    </tr>\n",
       "    <tr>\n",
       "      <td>2017-05-01</td>\n",
       "      <td>243337</td>\n",
       "      <td>24.755577</td>\n",
       "    </tr>\n",
       "  </tbody>\n",
       "</table>\n",
       "</div>"
      ],
      "text/plain": [
       "            revenue  percent_change\n",
       "date                               \n",
       "2017-01-01   188665             NaN\n",
       "2017-02-01   230227       22.029523\n",
       "2017-03-01   304013       32.049238\n",
       "2017-04-01   195051      -35.841230\n",
       "2017-05-01   243337       24.755577"
      ]
     },
     "execution_count": 33,
     "metadata": {},
     "output_type": "execute_result"
    }
   ],
   "source": [
    "# create percent change column\n",
    "month_rev_df['percent_change'] = (month_rev_df['revenue'].pct_change()) * 100\n",
    "month_rev_df.head()"
   ]
  },
  {
   "cell_type": "code",
   "execution_count": 34,
   "metadata": {
    "ExecuteTime": {
     "end_time": "2021-01-04T17:43:15.330712Z",
     "start_time": "2021-01-04T17:43:15.324727Z"
    }
   },
   "outputs": [],
   "source": [
    "# stats on percent change by month\n",
    "max_revenue_chg = month_rev_df['percent_change'].max()\n",
    "\n",
    "# year and month with highest revenue change\n",
    "highest_month_chg = month_rev_df['percent_change'].idxmax().strftime(\"%Y-%m\")"
   ]
  },
  {
   "cell_type": "code",
   "execution_count": 35,
   "metadata": {
    "ExecuteTime": {
     "end_time": "2021-01-04T17:43:16.785590Z",
     "start_time": "2021-01-04T17:43:16.779606Z"
    }
   },
   "outputs": [
    {
     "name": "stdout",
     "output_type": "stream",
     "text": [
      "2017-12 had the largest MoM revenue growth at 60.7%\n"
     ]
    }
   ],
   "source": [
    "# answer question\n",
    "\n",
    "print(f\"{highest_month_chg} had the largest MoM revenue growth at {round(max_revenue_chg, 1)}%\")"
   ]
  },
  {
   "cell_type": "markdown",
   "metadata": {},
   "source": [
    "# Additional Analysis"
   ]
  },
  {
   "cell_type": "code",
   "execution_count": 26,
   "metadata": {
    "ExecuteTime": {
     "end_time": "2021-01-04T17:39:58.624285Z",
     "start_time": "2021-01-04T17:39:58.619302Z"
    }
   },
   "outputs": [],
   "source": [
    "# use pandas profiling package (to view you may need to pip install pandas-profiling)\n",
    "# import pandas_profiling\n",
    "\n",
    "# prof_report = pandas_profiling.ProfileReport(df , title = 'Summary Profile')\n",
    "# prof_report.to_widgets()"
   ]
  },
  {
   "cell_type": "code",
   "execution_count": null,
   "metadata": {},
   "outputs": [],
   "source": []
  }
 ],
 "metadata": {
  "kernelspec": {
   "display_name": "Python 3",
   "language": "python",
   "name": "python3"
  },
  "language_info": {
   "codemirror_mode": {
    "name": "ipython",
    "version": 3
   },
   "file_extension": ".py",
   "mimetype": "text/x-python",
   "name": "python",
   "nbconvert_exporter": "python",
   "pygments_lexer": "ipython3",
   "version": "3.7.4"
  },
  "toc": {
   "base_numbering": 1,
   "nav_menu": {},
   "number_sections": true,
   "sideBar": true,
   "skip_h1_title": false,
   "title_cell": "Table of Contents",
   "title_sidebar": "Contents",
   "toc_cell": false,
   "toc_position": {
    "height": "calc(100% - 180px)",
    "left": "10px",
    "top": "150px",
    "width": "384px"
   },
   "toc_section_display": true,
   "toc_window_display": true
  },
  "varInspector": {
   "cols": {
    "lenName": 16,
    "lenType": 16,
    "lenVar": 40
   },
   "kernels_config": {
    "python": {
     "delete_cmd_postfix": "",
     "delete_cmd_prefix": "del ",
     "library": "var_list.py",
     "varRefreshCmd": "print(var_dic_list())"
    },
    "r": {
     "delete_cmd_postfix": ") ",
     "delete_cmd_prefix": "rm(",
     "library": "var_list.r",
     "varRefreshCmd": "cat(var_dic_list()) "
    }
   },
   "types_to_exclude": [
    "module",
    "function",
    "builtin_function_or_method",
    "instance",
    "_Feature"
   ],
   "window_display": false
  }
 },
 "nbformat": 4,
 "nbformat_minor": 2
}
