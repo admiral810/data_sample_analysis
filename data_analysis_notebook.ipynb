{
 "cells": [
  {
   "cell_type": "code",
   "execution_count": 1,
   "metadata": {
    "ExecuteTime": {
     "end_time": "2021-01-05T18:51:38.332346Z",
     "start_time": "2021-01-05T18:51:36.020004Z"
    }
   },
   "outputs": [],
   "source": [
    "import pandas as pd\n",
    "import numpy as np\n",
    "from datetime import datetime\n",
    "from datetime import date\n",
    "\n",
    "import seaborn as sns\n",
    "import matplotlib.pyplot as plt\n",
    "%matplotlib inline"
   ]
  },
  {
   "cell_type": "markdown",
   "metadata": {},
   "source": [
    "# Initial Setup\n",
    "Reading in the datafile and doing some updates to allow for better analysis"
   ]
  },
  {
   "cell_type": "code",
   "execution_count": 2,
   "metadata": {
    "ExecuteTime": {
     "end_time": "2021-01-05T18:51:38.370761Z",
     "start_time": "2021-01-05T18:51:38.336335Z"
    }
   },
   "outputs": [
    {
     "data": {
      "text/html": [
       "<div>\n",
       "<style scoped>\n",
       "    .dataframe tbody tr th:only-of-type {\n",
       "        vertical-align: middle;\n",
       "    }\n",
       "\n",
       "    .dataframe tbody tr th {\n",
       "        vertical-align: top;\n",
       "    }\n",
       "\n",
       "    .dataframe thead th {\n",
       "        text-align: right;\n",
       "    }\n",
       "</style>\n",
       "<table border=\"1\" class=\"dataframe\">\n",
       "  <thead>\n",
       "    <tr style=\"text-align: right;\">\n",
       "      <th></th>\n",
       "      <th>Year</th>\n",
       "      <th>Quarter</th>\n",
       "      <th>Month</th>\n",
       "      <th>Product</th>\n",
       "      <th>Revenue</th>\n",
       "      <th>Device</th>\n",
       "      <th>Format</th>\n",
       "      <th>Company</th>\n",
       "    </tr>\n",
       "  </thead>\n",
       "  <tbody>\n",
       "    <tr>\n",
       "      <td>0</td>\n",
       "      <td>2019</td>\n",
       "      <td>Qtr 3</td>\n",
       "      <td>September</td>\n",
       "      <td>Core</td>\n",
       "      <td>29698</td>\n",
       "      <td>Mobile</td>\n",
       "      <td>Display</td>\n",
       "      <td>Apple</td>\n",
       "    </tr>\n",
       "    <tr>\n",
       "      <td>1</td>\n",
       "      <td>2019</td>\n",
       "      <td>Qtr 3</td>\n",
       "      <td>September</td>\n",
       "      <td>Core</td>\n",
       "      <td>4171</td>\n",
       "      <td>Desktop</td>\n",
       "      <td>Display</td>\n",
       "      <td>Apple</td>\n",
       "    </tr>\n",
       "  </tbody>\n",
       "</table>\n",
       "</div>"
      ],
      "text/plain": [
       "   Year Quarter      Month Product  Revenue   Device   Format Company\n",
       "0  2019   Qtr 3  September    Core    29698   Mobile  Display   Apple\n",
       "1  2019   Qtr 3  September    Core     4171  Desktop  Display   Apple"
      ]
     },
     "execution_count": 2,
     "metadata": {},
     "output_type": "execute_result"
    }
   ],
   "source": [
    "# read in initial data\n",
    "df = pd.read_csv(\"data/sample_data.csv\")\n",
    "df.head(2)"
   ]
  },
  {
   "cell_type": "code",
   "execution_count": 3,
   "metadata": {
    "ExecuteTime": {
     "end_time": "2021-01-05T18:51:38.381734Z",
     "start_time": "2021-01-05T18:51:38.375749Z"
    }
   },
   "outputs": [],
   "source": [
    "# setup columns as all lowercase\n",
    "df.columns = df.columns.str.lower()"
   ]
  },
  {
   "cell_type": "code",
   "execution_count": 4,
   "metadata": {
    "ExecuteTime": {
     "end_time": "2021-01-05T18:51:38.435588Z",
     "start_time": "2021-01-05T18:51:38.385723Z"
    }
   },
   "outputs": [
    {
     "data": {
      "text/html": [
       "<div>\n",
       "<style scoped>\n",
       "    .dataframe tbody tr th:only-of-type {\n",
       "        vertical-align: middle;\n",
       "    }\n",
       "\n",
       "    .dataframe tbody tr th {\n",
       "        vertical-align: top;\n",
       "    }\n",
       "\n",
       "    .dataframe thead th {\n",
       "        text-align: right;\n",
       "    }\n",
       "</style>\n",
       "<table border=\"1\" class=\"dataframe\">\n",
       "  <thead>\n",
       "    <tr style=\"text-align: right;\">\n",
       "      <th></th>\n",
       "      <th>year</th>\n",
       "      <th>quarter</th>\n",
       "      <th>month</th>\n",
       "      <th>product</th>\n",
       "      <th>revenue</th>\n",
       "      <th>device</th>\n",
       "      <th>format</th>\n",
       "      <th>company</th>\n",
       "      <th>month_num</th>\n",
       "    </tr>\n",
       "  </thead>\n",
       "  <tbody>\n",
       "    <tr>\n",
       "      <td>0</td>\n",
       "      <td>2019</td>\n",
       "      <td>Qtr 3</td>\n",
       "      <td>September</td>\n",
       "      <td>Core</td>\n",
       "      <td>29698</td>\n",
       "      <td>Mobile</td>\n",
       "      <td>Display</td>\n",
       "      <td>Apple</td>\n",
       "      <td>9</td>\n",
       "    </tr>\n",
       "    <tr>\n",
       "      <td>1</td>\n",
       "      <td>2019</td>\n",
       "      <td>Qtr 3</td>\n",
       "      <td>September</td>\n",
       "      <td>Core</td>\n",
       "      <td>4171</td>\n",
       "      <td>Desktop</td>\n",
       "      <td>Display</td>\n",
       "      <td>Apple</td>\n",
       "      <td>9</td>\n",
       "    </tr>\n",
       "  </tbody>\n",
       "</table>\n",
       "</div>"
      ],
      "text/plain": [
       "   year quarter      month product  revenue   device   format company  \\\n",
       "0  2019   Qtr 3  September    Core    29698   Mobile  Display   Apple   \n",
       "1  2019   Qtr 3  September    Core     4171  Desktop  Display   Apple   \n",
       "\n",
       "   month_num  \n",
       "0          9  \n",
       "1          9  "
      ]
     },
     "execution_count": 4,
     "metadata": {},
     "output_type": "execute_result"
    }
   ],
   "source": [
    "# create month number column\n",
    "df['month_num'] = [datetime.strptime(x, '%B').month for x in df['month']]\n",
    "df.head(2)"
   ]
  },
  {
   "cell_type": "code",
   "execution_count": 5,
   "metadata": {
    "ExecuteTime": {
     "end_time": "2021-01-05T18:51:38.471011Z",
     "start_time": "2021-01-05T18:51:38.438593Z"
    }
   },
   "outputs": [
    {
     "name": "stdout",
     "output_type": "stream",
     "text": [
      "The date column is now datatype: datetime64[ns] \n",
      "\n",
      "Current column order is: \n",
      "Index(['year', 'quarter', 'month', 'product', 'revenue', 'device', 'format',\n",
      "       'company', 'month_num', 'date'],\n",
      "      dtype='object')\n"
     ]
    }
   ],
   "source": [
    "# create datetime formatted column, combining year and month\n",
    "df['date'] = pd.to_datetime(df['year'].astype(str) + '/' + df['month_num'].astype(str) + '/01', format=\"%Y/%m\")\n",
    "\n",
    "print(f\"The date column is now datatype: {df['date'].dtypes} \\n\")\n",
    "print(f\"Current column order is: \\n{df.columns}\")"
   ]
  },
  {
   "cell_type": "code",
   "execution_count": 6,
   "metadata": {
    "ExecuteTime": {
     "end_time": "2021-01-05T18:51:38.494945Z",
     "start_time": "2021-01-05T18:51:38.473996Z"
    }
   },
   "outputs": [
    {
     "data": {
      "text/html": [
       "<div>\n",
       "<style scoped>\n",
       "    .dataframe tbody tr th:only-of-type {\n",
       "        vertical-align: middle;\n",
       "    }\n",
       "\n",
       "    .dataframe tbody tr th {\n",
       "        vertical-align: top;\n",
       "    }\n",
       "\n",
       "    .dataframe thead th {\n",
       "        text-align: right;\n",
       "    }\n",
       "</style>\n",
       "<table border=\"1\" class=\"dataframe\">\n",
       "  <thead>\n",
       "    <tr style=\"text-align: right;\">\n",
       "      <th></th>\n",
       "      <th>date</th>\n",
       "      <th>year</th>\n",
       "      <th>quarter</th>\n",
       "      <th>month</th>\n",
       "      <th>month_num</th>\n",
       "      <th>company</th>\n",
       "      <th>product</th>\n",
       "      <th>device</th>\n",
       "      <th>format</th>\n",
       "      <th>revenue</th>\n",
       "    </tr>\n",
       "  </thead>\n",
       "  <tbody>\n",
       "    <tr>\n",
       "      <td>0</td>\n",
       "      <td>2019-09-01</td>\n",
       "      <td>2019</td>\n",
       "      <td>Qtr 3</td>\n",
       "      <td>September</td>\n",
       "      <td>9</td>\n",
       "      <td>Apple</td>\n",
       "      <td>Core</td>\n",
       "      <td>Mobile</td>\n",
       "      <td>Display</td>\n",
       "      <td>29698</td>\n",
       "    </tr>\n",
       "    <tr>\n",
       "      <td>1</td>\n",
       "      <td>2019-09-01</td>\n",
       "      <td>2019</td>\n",
       "      <td>Qtr 3</td>\n",
       "      <td>September</td>\n",
       "      <td>9</td>\n",
       "      <td>Apple</td>\n",
       "      <td>Core</td>\n",
       "      <td>Desktop</td>\n",
       "      <td>Display</td>\n",
       "      <td>4171</td>\n",
       "    </tr>\n",
       "    <tr>\n",
       "      <td>2</td>\n",
       "      <td>2019-08-01</td>\n",
       "      <td>2019</td>\n",
       "      <td>Qtr 3</td>\n",
       "      <td>August</td>\n",
       "      <td>8</td>\n",
       "      <td>Apple</td>\n",
       "      <td>Core</td>\n",
       "      <td>Mobile</td>\n",
       "      <td>Display</td>\n",
       "      <td>88938</td>\n",
       "    </tr>\n",
       "    <tr>\n",
       "      <td>3</td>\n",
       "      <td>2019-08-01</td>\n",
       "      <td>2019</td>\n",
       "      <td>Qtr 3</td>\n",
       "      <td>August</td>\n",
       "      <td>8</td>\n",
       "      <td>Apple</td>\n",
       "      <td>Core</td>\n",
       "      <td>Desktop</td>\n",
       "      <td>Display</td>\n",
       "      <td>10154</td>\n",
       "    </tr>\n",
       "    <tr>\n",
       "      <td>4</td>\n",
       "      <td>2019-07-01</td>\n",
       "      <td>2019</td>\n",
       "      <td>Qtr 3</td>\n",
       "      <td>July</td>\n",
       "      <td>7</td>\n",
       "      <td>Apple</td>\n",
       "      <td>Core</td>\n",
       "      <td>Mobile</td>\n",
       "      <td>Display</td>\n",
       "      <td>85092</td>\n",
       "    </tr>\n",
       "  </tbody>\n",
       "</table>\n",
       "</div>"
      ],
      "text/plain": [
       "        date  year quarter      month  month_num company product   device  \\\n",
       "0 2019-09-01  2019   Qtr 3  September          9   Apple    Core   Mobile   \n",
       "1 2019-09-01  2019   Qtr 3  September          9   Apple    Core  Desktop   \n",
       "2 2019-08-01  2019   Qtr 3     August          8   Apple    Core   Mobile   \n",
       "3 2019-08-01  2019   Qtr 3     August          8   Apple    Core  Desktop   \n",
       "4 2019-07-01  2019   Qtr 3       July          7   Apple    Core   Mobile   \n",
       "\n",
       "    format  revenue  \n",
       "0  Display    29698  \n",
       "1  Display     4171  \n",
       "2  Display    88938  \n",
       "3  Display    10154  \n",
       "4  Display    85092  "
      ]
     },
     "execution_count": 6,
     "metadata": {},
     "output_type": "execute_result"
    }
   ],
   "source": [
    "# reorder columns to group date fields (only readability reasons)\n",
    "df = df[['date', 'year', 'quarter', 'month', 'month_num', 'company', 'product', 'device', 'format', 'revenue']]\n",
    "df.head()"
   ]
  },
  {
   "cell_type": "markdown",
   "metadata": {},
   "source": [
    "# Questions"
   ]
  },
  {
   "cell_type": "markdown",
   "metadata": {},
   "source": [
    "## Question 1\n",
    "In how many quarters did “Orange” have more than $15K in “Social” revenue?"
   ]
  },
  {
   "cell_type": "code",
   "execution_count": 7,
   "metadata": {
    "ExecuteTime": {
     "end_time": "2021-01-05T18:51:38.522870Z",
     "start_time": "2021-01-05T18:51:38.497932Z"
    }
   },
   "outputs": [
    {
     "data": {
      "text/html": [
       "<div>\n",
       "<style scoped>\n",
       "    .dataframe tbody tr th:only-of-type {\n",
       "        vertical-align: middle;\n",
       "    }\n",
       "\n",
       "    .dataframe tbody tr th {\n",
       "        vertical-align: top;\n",
       "    }\n",
       "\n",
       "    .dataframe thead th {\n",
       "        text-align: right;\n",
       "    }\n",
       "</style>\n",
       "<table border=\"1\" class=\"dataframe\">\n",
       "  <thead>\n",
       "    <tr style=\"text-align: right;\">\n",
       "      <th></th>\n",
       "      <th>year</th>\n",
       "      <th>quarter</th>\n",
       "      <th>company</th>\n",
       "      <th>product</th>\n",
       "      <th>revenue</th>\n",
       "    </tr>\n",
       "  </thead>\n",
       "  <tbody>\n",
       "    <tr>\n",
       "      <td>57</td>\n",
       "      <td>2017</td>\n",
       "      <td>Qtr 4</td>\n",
       "      <td>Orange</td>\n",
       "      <td>Social</td>\n",
       "      <td>27423</td>\n",
       "    </tr>\n",
       "    <tr>\n",
       "      <td>77</td>\n",
       "      <td>2018</td>\n",
       "      <td>Qtr 1</td>\n",
       "      <td>Orange</td>\n",
       "      <td>Social</td>\n",
       "      <td>59855</td>\n",
       "    </tr>\n",
       "    <tr>\n",
       "      <td>97</td>\n",
       "      <td>2018</td>\n",
       "      <td>Qtr 2</td>\n",
       "      <td>Orange</td>\n",
       "      <td>Social</td>\n",
       "      <td>79679</td>\n",
       "    </tr>\n",
       "    <tr>\n",
       "      <td>116</td>\n",
       "      <td>2018</td>\n",
       "      <td>Qtr 3</td>\n",
       "      <td>Orange</td>\n",
       "      <td>Social</td>\n",
       "      <td>75458</td>\n",
       "    </tr>\n",
       "    <tr>\n",
       "      <td>135</td>\n",
       "      <td>2018</td>\n",
       "      <td>Qtr 4</td>\n",
       "      <td>Orange</td>\n",
       "      <td>Social</td>\n",
       "      <td>75075</td>\n",
       "    </tr>\n",
       "    <tr>\n",
       "      <td>153</td>\n",
       "      <td>2019</td>\n",
       "      <td>Qtr 1</td>\n",
       "      <td>Orange</td>\n",
       "      <td>Social</td>\n",
       "      <td>52670</td>\n",
       "    </tr>\n",
       "    <tr>\n",
       "      <td>172</td>\n",
       "      <td>2019</td>\n",
       "      <td>Qtr 2</td>\n",
       "      <td>Orange</td>\n",
       "      <td>Social</td>\n",
       "      <td>75734</td>\n",
       "    </tr>\n",
       "    <tr>\n",
       "      <td>190</td>\n",
       "      <td>2019</td>\n",
       "      <td>Qtr 3</td>\n",
       "      <td>Orange</td>\n",
       "      <td>Social</td>\n",
       "      <td>77461</td>\n",
       "    </tr>\n",
       "  </tbody>\n",
       "</table>\n",
       "</div>"
      ],
      "text/plain": [
       "     year quarter company product  revenue\n",
       "57   2017   Qtr 4  Orange  Social    27423\n",
       "77   2018   Qtr 1  Orange  Social    59855\n",
       "97   2018   Qtr 2  Orange  Social    79679\n",
       "116  2018   Qtr 3  Orange  Social    75458\n",
       "135  2018   Qtr 4  Orange  Social    75075\n",
       "153  2019   Qtr 1  Orange  Social    52670\n",
       "172  2019   Qtr 2  Orange  Social    75734\n",
       "190  2019   Qtr 3  Orange  Social    77461"
      ]
     },
     "execution_count": 7,
     "metadata": {},
     "output_type": "execute_result"
    }
   ],
   "source": [
    "# aggregate sum of revenue by year and quarter\n",
    "year_qtr_df = df.groupby(['year', 'quarter', 'company', 'product']).agg({'revenue': 'sum'}).reset_index()\n",
    "\n",
    "# filter by orange and social\n",
    "orange_soc_df = year_qtr_df.loc[(year_qtr_df['revenue'] > 15000) & \n",
    "                (year_qtr_df['product'] == 'Social') &\n",
    "                (year_qtr_df['company'] == 'Orange')]\n",
    "orange_soc_df"
   ]
  },
  {
   "cell_type": "code",
   "execution_count": 8,
   "metadata": {
    "ExecuteTime": {
     "end_time": "2021-01-05T18:51:38.532837Z",
     "start_time": "2021-01-05T18:51:38.526855Z"
    }
   },
   "outputs": [
    {
     "name": "stdout",
     "output_type": "stream",
     "text": [
      "Orange company has had 8 quarters with more than 15K in Social revenue\n"
     ]
    }
   ],
   "source": [
    "# answer question\n",
    "orange_soc_count = len(orange_soc_df['revenue'])\n",
    "print(f'Orange company has had {orange_soc_count} quarters with more than 15K in Social revenue')"
   ]
  },
  {
   "cell_type": "markdown",
   "metadata": {},
   "source": [
    "## Question 2\n",
    "What was the average quarter-over-quarter (QoQ) growth in revenue among\n",
    "companies from Q2 to Q3 in 2018?"
   ]
  },
  {
   "cell_type": "code",
   "execution_count": 9,
   "metadata": {
    "ExecuteTime": {
     "end_time": "2021-01-05T18:51:38.547798Z",
     "start_time": "2021-01-05T18:51:38.536841Z"
    }
   },
   "outputs": [
    {
     "name": "stdout",
     "output_type": "stream",
     "text": [
      "unique years:  [2018]\n",
      "unique quarters:  ['Qtr 3' 'Qtr 2']\n"
     ]
    }
   ],
   "source": [
    "# filter by 2018 quarters 2 and 3\n",
    "Q2_Q3_2018_df = df[(df['date'].dt.year == 2018) & (df['date'].dt.quarter.isin([2,3]))]\n",
    "print(f\"unique years:  {Q2_Q3_2018_df['year'].unique()}\")\n",
    "print(f\"unique quarters:  {Q2_Q3_2018_df['quarter'].unique()}\")"
   ]
  },
  {
   "cell_type": "code",
   "execution_count": 10,
   "metadata": {
    "ExecuteTime": {
     "end_time": "2021-01-05T18:51:38.573728Z",
     "start_time": "2021-01-05T18:51:38.549793Z"
    }
   },
   "outputs": [
    {
     "data": {
      "text/html": [
       "<div>\n",
       "<style scoped>\n",
       "    .dataframe tbody tr th:only-of-type {\n",
       "        vertical-align: middle;\n",
       "    }\n",
       "\n",
       "    .dataframe tbody tr th {\n",
       "        vertical-align: top;\n",
       "    }\n",
       "\n",
       "    .dataframe thead tr th {\n",
       "        text-align: left;\n",
       "    }\n",
       "\n",
       "    .dataframe thead tr:last-of-type th {\n",
       "        text-align: right;\n",
       "    }\n",
       "</style>\n",
       "<table border=\"1\" class=\"dataframe\">\n",
       "  <thead>\n",
       "    <tr>\n",
       "      <th></th>\n",
       "      <th colspan=\"2\" halign=\"left\">revenue</th>\n",
       "    </tr>\n",
       "    <tr>\n",
       "      <th>quarter</th>\n",
       "      <th>Qtr 2</th>\n",
       "      <th>Qtr 3</th>\n",
       "    </tr>\n",
       "    <tr>\n",
       "      <th>company</th>\n",
       "      <th></th>\n",
       "      <th></th>\n",
       "    </tr>\n",
       "  </thead>\n",
       "  <tbody>\n",
       "    <tr>\n",
       "      <td>Amazon</td>\n",
       "      <td>73947.0</td>\n",
       "      <td>50096.0</td>\n",
       "    </tr>\n",
       "    <tr>\n",
       "      <td>Apple</td>\n",
       "      <td>178898.0</td>\n",
       "      <td>156500.0</td>\n",
       "    </tr>\n",
       "  </tbody>\n",
       "</table>\n",
       "</div>"
      ],
      "text/plain": [
       "          revenue          \n",
       "quarter     Qtr 2     Qtr 3\n",
       "company                    \n",
       "Amazon    73947.0   50096.0\n",
       "Apple    178898.0  156500.0"
      ]
     },
     "execution_count": 10,
     "metadata": {},
     "output_type": "execute_result"
    }
   ],
   "source": [
    "# group by company, aggregate revenue\n",
    "pivot_comp_rev_df = Q2_Q3_2018_df.pivot_table(index='company', columns='quarter', aggfunc={'revenue': 'sum'}).fillna(0)\n",
    "pivot_comp_rev_df.head(2)"
   ]
  },
  {
   "cell_type": "code",
   "execution_count": 11,
   "metadata": {
    "ExecuteTime": {
     "end_time": "2021-01-05T18:51:38.581707Z",
     "start_time": "2021-01-05T18:51:38.575724Z"
    }
   },
   "outputs": [],
   "source": [
    "# I prefer to flatten the columns as opposed to the multi-index, so have this function I may use after pivoting data\n",
    "def flatten_cols(df):\n",
    "    df.columns = [\n",
    "        '_'.join(tuple(map(str, t))).strip() \n",
    "        for t in df.columns.values\n",
    "        ]\n",
    "    return df"
   ]
  },
  {
   "cell_type": "code",
   "execution_count": 12,
   "metadata": {
    "ExecuteTime": {
     "end_time": "2021-01-05T18:51:38.593675Z",
     "start_time": "2021-01-05T18:51:38.583703Z"
    }
   },
   "outputs": [
    {
     "data": {
      "text/html": [
       "<div>\n",
       "<style scoped>\n",
       "    .dataframe tbody tr th:only-of-type {\n",
       "        vertical-align: middle;\n",
       "    }\n",
       "\n",
       "    .dataframe tbody tr th {\n",
       "        vertical-align: top;\n",
       "    }\n",
       "\n",
       "    .dataframe thead th {\n",
       "        text-align: right;\n",
       "    }\n",
       "</style>\n",
       "<table border=\"1\" class=\"dataframe\">\n",
       "  <thead>\n",
       "    <tr style=\"text-align: right;\">\n",
       "      <th></th>\n",
       "      <th>revenue_Qtr 2</th>\n",
       "      <th>revenue_Qtr 3</th>\n",
       "    </tr>\n",
       "    <tr>\n",
       "      <th>company</th>\n",
       "      <th></th>\n",
       "      <th></th>\n",
       "    </tr>\n",
       "  </thead>\n",
       "  <tbody>\n",
       "    <tr>\n",
       "      <td>Amazon</td>\n",
       "      <td>73947.0</td>\n",
       "      <td>50096.0</td>\n",
       "    </tr>\n",
       "    <tr>\n",
       "      <td>Apple</td>\n",
       "      <td>178898.0</td>\n",
       "      <td>156500.0</td>\n",
       "    </tr>\n",
       "  </tbody>\n",
       "</table>\n",
       "</div>"
      ],
      "text/plain": [
       "         revenue_Qtr 2  revenue_Qtr 3\n",
       "company                              \n",
       "Amazon         73947.0        50096.0\n",
       "Apple         178898.0       156500.0"
      ]
     },
     "execution_count": 12,
     "metadata": {},
     "output_type": "execute_result"
    }
   ],
   "source": [
    "# flatten index\n",
    "comp_rev_df = flatten_cols(pivot_comp_rev_df)\n",
    "comp_rev_df.head(2)"
   ]
  },
  {
   "cell_type": "code",
   "execution_count": 13,
   "metadata": {
    "ExecuteTime": {
     "end_time": "2021-01-05T18:51:38.600656Z",
     "start_time": "2021-01-05T18:51:38.595671Z"
    }
   },
   "outputs": [],
   "source": [
    "# rename columns for readability and to be more explicit\n",
    "comp_rev_df.columns = ['2018_Q2_revenue', '2018_Q3_revenue']"
   ]
  },
  {
   "cell_type": "code",
   "execution_count": 14,
   "metadata": {
    "ExecuteTime": {
     "end_time": "2021-01-05T18:51:38.615622Z",
     "start_time": "2021-01-05T18:51:38.602654Z"
    }
   },
   "outputs": [
    {
     "data": {
      "text/html": [
       "<div>\n",
       "<style scoped>\n",
       "    .dataframe tbody tr th:only-of-type {\n",
       "        vertical-align: middle;\n",
       "    }\n",
       "\n",
       "    .dataframe tbody tr th {\n",
       "        vertical-align: top;\n",
       "    }\n",
       "\n",
       "    .dataframe thead th {\n",
       "        text-align: right;\n",
       "    }\n",
       "</style>\n",
       "<table border=\"1\" class=\"dataframe\">\n",
       "  <thead>\n",
       "    <tr style=\"text-align: right;\">\n",
       "      <th></th>\n",
       "      <th>2018_Q2_revenue</th>\n",
       "      <th>2018_Q3_revenue</th>\n",
       "      <th>QoQ_change_perc</th>\n",
       "    </tr>\n",
       "    <tr>\n",
       "      <th>company</th>\n",
       "      <th></th>\n",
       "      <th></th>\n",
       "      <th></th>\n",
       "    </tr>\n",
       "  </thead>\n",
       "  <tbody>\n",
       "    <tr>\n",
       "      <td>Amazon</td>\n",
       "      <td>73947.0</td>\n",
       "      <td>50096.0</td>\n",
       "      <td>-32.254182</td>\n",
       "    </tr>\n",
       "    <tr>\n",
       "      <td>Apple</td>\n",
       "      <td>178898.0</td>\n",
       "      <td>156500.0</td>\n",
       "      <td>-12.519983</td>\n",
       "    </tr>\n",
       "    <tr>\n",
       "      <td>Ganges</td>\n",
       "      <td>147428.0</td>\n",
       "      <td>137777.0</td>\n",
       "      <td>-6.546246</td>\n",
       "    </tr>\n",
       "    <tr>\n",
       "      <td>Grape</td>\n",
       "      <td>194384.0</td>\n",
       "      <td>0.0</td>\n",
       "      <td>-100.000000</td>\n",
       "    </tr>\n",
       "    <tr>\n",
       "      <td>Kiwi</td>\n",
       "      <td>110770.0</td>\n",
       "      <td>134222.0</td>\n",
       "      <td>21.171797</td>\n",
       "    </tr>\n",
       "    <tr>\n",
       "      <td>Mississippi</td>\n",
       "      <td>128858.0</td>\n",
       "      <td>77362.0</td>\n",
       "      <td>-39.963371</td>\n",
       "    </tr>\n",
       "    <tr>\n",
       "      <td>Nile</td>\n",
       "      <td>49581.0</td>\n",
       "      <td>249745.0</td>\n",
       "      <td>403.711099</td>\n",
       "    </tr>\n",
       "    <tr>\n",
       "      <td>Orange</td>\n",
       "      <td>138005.0</td>\n",
       "      <td>165222.0</td>\n",
       "      <td>19.721749</td>\n",
       "    </tr>\n",
       "    <tr>\n",
       "      <td>Pear</td>\n",
       "      <td>40028.0</td>\n",
       "      <td>568973.0</td>\n",
       "      <td>1321.437494</td>\n",
       "    </tr>\n",
       "    <tr>\n",
       "      <td>Yangtze</td>\n",
       "      <td>339614.0</td>\n",
       "      <td>375696.0</td>\n",
       "      <td>10.624415</td>\n",
       "    </tr>\n",
       "  </tbody>\n",
       "</table>\n",
       "</div>"
      ],
      "text/plain": [
       "             2018_Q2_revenue  2018_Q3_revenue  QoQ_change_perc\n",
       "company                                                       \n",
       "Amazon               73947.0          50096.0       -32.254182\n",
       "Apple               178898.0         156500.0       -12.519983\n",
       "Ganges              147428.0         137777.0        -6.546246\n",
       "Grape               194384.0              0.0      -100.000000\n",
       "Kiwi                110770.0         134222.0        21.171797\n",
       "Mississippi         128858.0          77362.0       -39.963371\n",
       "Nile                 49581.0         249745.0       403.711099\n",
       "Orange              138005.0         165222.0        19.721749\n",
       "Pear                 40028.0         568973.0      1321.437494\n",
       "Yangtze             339614.0         375696.0        10.624415"
      ]
     },
     "execution_count": 14,
     "metadata": {},
     "output_type": "execute_result"
    }
   ],
   "source": [
    "# add quarter over quarter change by company\n",
    "comp_rev_df['QoQ_change_perc'] = ((comp_rev_df['2018_Q3_revenue'] / comp_rev_df['2018_Q2_revenue']) -1) * 100\n",
    "comp_rev_df"
   ]
  },
  {
   "cell_type": "code",
   "execution_count": 15,
   "metadata": {
    "ExecuteTime": {
     "end_time": "2021-01-05T18:51:38.627585Z",
     "start_time": "2021-01-05T18:51:38.617611Z"
    }
   },
   "outputs": [
    {
     "data": {
      "text/plain": [
       "count      10.000000\n",
       "mean      158.538277\n",
       "std       430.970858\n",
       "min      -100.000000\n",
       "25%       -27.320632\n",
       "50%         2.039084\n",
       "75%        20.809285\n",
       "max      1321.437494\n",
       "Name: QoQ_change_perc, dtype: float64"
      ]
     },
     "execution_count": 15,
     "metadata": {},
     "output_type": "execute_result"
    }
   ],
   "source": [
    "# stats on quarter over quarter performance\n",
    "QoQ_stats = comp_rev_df['QoQ_change_perc'].describe()\n",
    "QoQ_stats"
   ]
  },
  {
   "cell_type": "code",
   "execution_count": 16,
   "metadata": {
    "ExecuteTime": {
     "end_time": "2021-01-05T18:51:38.636560Z",
     "start_time": "2021-01-05T18:51:38.630579Z"
    }
   },
   "outputs": [
    {
     "name": "stdout",
     "output_type": "stream",
     "text": [
      "The average growth of revenue by company from Q2-2018 to Q3-2018 was 158.5%\n",
      "The overall revenue growth from Q2-2018 to Q3-2018 was 36.7%\n"
     ]
    }
   ],
   "source": [
    "# answer question\n",
    "\n",
    "# average growth\n",
    "print(f\"The average growth of revenue by company from Q2-2018 to Q3-2018 was {QoQ_stats['mean'].round(1)}%\")\n",
    "\n",
    "# overall growth\n",
    "overall_growth = (sum(comp_rev_df['2018_Q3_revenue']) / sum(comp_rev_df['2018_Q2_revenue']) -1 )* 100\n",
    "print(f\"The overall revenue growth from Q2-2018 to Q3-2018 was {round(overall_growth, 1)}%\")"
   ]
  },
  {
   "cell_type": "markdown",
   "metadata": {
    "ExecuteTime": {
     "end_time": "2021-01-04T02:55:26.647843Z",
     "start_time": "2021-01-04T02:55:26.643849Z"
    }
   },
   "source": [
    "## Question 3\n",
    "List the companies by the number of months they have spent as a client, in\n",
    "descending order.\n"
   ]
  },
  {
   "cell_type": "code",
   "execution_count": 17,
   "metadata": {
    "ExecuteTime": {
     "end_time": "2021-01-05T18:51:38.656507Z",
     "start_time": "2021-01-05T18:51:38.638555Z"
    }
   },
   "outputs": [
    {
     "data": {
      "text/html": [
       "<div>\n",
       "<style scoped>\n",
       "    .dataframe tbody tr th:only-of-type {\n",
       "        vertical-align: middle;\n",
       "    }\n",
       "\n",
       "    .dataframe tbody tr th {\n",
       "        vertical-align: top;\n",
       "    }\n",
       "\n",
       "    .dataframe thead th {\n",
       "        text-align: right;\n",
       "    }\n",
       "</style>\n",
       "<table border=\"1\" class=\"dataframe\">\n",
       "  <thead>\n",
       "    <tr style=\"text-align: right;\">\n",
       "      <th></th>\n",
       "      <th>company</th>\n",
       "      <th>count_of_months</th>\n",
       "    </tr>\n",
       "  </thead>\n",
       "  <tbody>\n",
       "    <tr>\n",
       "      <td>0</td>\n",
       "      <td>Kiwi</td>\n",
       "      <td>255</td>\n",
       "    </tr>\n",
       "    <tr>\n",
       "      <td>1</td>\n",
       "      <td>Ganges</td>\n",
       "      <td>218</td>\n",
       "    </tr>\n",
       "    <tr>\n",
       "      <td>2</td>\n",
       "      <td>Amazon</td>\n",
       "      <td>216</td>\n",
       "    </tr>\n",
       "    <tr>\n",
       "      <td>3</td>\n",
       "      <td>Orange</td>\n",
       "      <td>205</td>\n",
       "    </tr>\n",
       "    <tr>\n",
       "      <td>4</td>\n",
       "      <td>Mississippi</td>\n",
       "      <td>201</td>\n",
       "    </tr>\n",
       "    <tr>\n",
       "      <td>5</td>\n",
       "      <td>Yangtze</td>\n",
       "      <td>66</td>\n",
       "    </tr>\n",
       "    <tr>\n",
       "      <td>6</td>\n",
       "      <td>Apple</td>\n",
       "      <td>52</td>\n",
       "    </tr>\n",
       "    <tr>\n",
       "      <td>7</td>\n",
       "      <td>Pear</td>\n",
       "      <td>16</td>\n",
       "    </tr>\n",
       "    <tr>\n",
       "      <td>8</td>\n",
       "      <td>Nile</td>\n",
       "      <td>15</td>\n",
       "    </tr>\n",
       "    <tr>\n",
       "      <td>9</td>\n",
       "      <td>Grape</td>\n",
       "      <td>7</td>\n",
       "    </tr>\n",
       "  </tbody>\n",
       "</table>\n",
       "</div>"
      ],
      "text/plain": [
       "       company  count_of_months\n",
       "0         Kiwi              255\n",
       "1       Ganges              218\n",
       "2       Amazon              216\n",
       "3       Orange              205\n",
       "4  Mississippi              201\n",
       "5      Yangtze               66\n",
       "6        Apple               52\n",
       "7         Pear               16\n",
       "8         Nile               15\n",
       "9        Grape                7"
      ]
     },
     "execution_count": 17,
     "metadata": {},
     "output_type": "execute_result"
    }
   ],
   "source": [
    "# answer question\n",
    "\n",
    "# group by company and aggregate date by count\n",
    "month_count_df = df.groupby(['company']).agg({'date': 'count'})\n",
    "month_count_df = month_count_df.rename(columns={'date': 'count_of_months'})\n",
    "month_count_df.sort_values(by='count_of_months', ascending=False).reset_index()"
   ]
  },
  {
   "cell_type": "markdown",
   "metadata": {
    "ExecuteTime": {
     "end_time": "2021-01-04T02:55:56.450805Z",
     "start_time": "2021-01-04T02:55:56.445818Z"
    }
   },
   "source": [
    "## Question 4\n",
    "In each year, what percentage of “Core” revenue has come from video?"
   ]
  },
  {
   "cell_type": "code",
   "execution_count": 18,
   "metadata": {
    "ExecuteTime": {
     "end_time": "2021-01-05T18:51:38.674464Z",
     "start_time": "2021-01-05T18:51:38.658503Z"
    }
   },
   "outputs": [
    {
     "data": {
      "text/html": [
       "<div>\n",
       "<style scoped>\n",
       "    .dataframe tbody tr th:only-of-type {\n",
       "        vertical-align: middle;\n",
       "    }\n",
       "\n",
       "    .dataframe tbody tr th {\n",
       "        vertical-align: top;\n",
       "    }\n",
       "\n",
       "    .dataframe thead th {\n",
       "        text-align: right;\n",
       "    }\n",
       "</style>\n",
       "<table border=\"1\" class=\"dataframe\">\n",
       "  <thead>\n",
       "    <tr style=\"text-align: right;\">\n",
       "      <th></th>\n",
       "      <th>date</th>\n",
       "      <th>year</th>\n",
       "      <th>quarter</th>\n",
       "      <th>month</th>\n",
       "      <th>month_num</th>\n",
       "      <th>company</th>\n",
       "      <th>product</th>\n",
       "      <th>device</th>\n",
       "      <th>format</th>\n",
       "      <th>revenue</th>\n",
       "    </tr>\n",
       "  </thead>\n",
       "  <tbody>\n",
       "    <tr>\n",
       "      <td>0</td>\n",
       "      <td>2019-09-01</td>\n",
       "      <td>2019</td>\n",
       "      <td>Qtr 3</td>\n",
       "      <td>September</td>\n",
       "      <td>9</td>\n",
       "      <td>Apple</td>\n",
       "      <td>Core</td>\n",
       "      <td>Mobile</td>\n",
       "      <td>Display</td>\n",
       "      <td>29698</td>\n",
       "    </tr>\n",
       "    <tr>\n",
       "      <td>1</td>\n",
       "      <td>2019-09-01</td>\n",
       "      <td>2019</td>\n",
       "      <td>Qtr 3</td>\n",
       "      <td>September</td>\n",
       "      <td>9</td>\n",
       "      <td>Apple</td>\n",
       "      <td>Core</td>\n",
       "      <td>Desktop</td>\n",
       "      <td>Display</td>\n",
       "      <td>4171</td>\n",
       "    </tr>\n",
       "  </tbody>\n",
       "</table>\n",
       "</div>"
      ],
      "text/plain": [
       "        date  year quarter      month  month_num company product   device  \\\n",
       "0 2019-09-01  2019   Qtr 3  September          9   Apple    Core   Mobile   \n",
       "1 2019-09-01  2019   Qtr 3  September          9   Apple    Core  Desktop   \n",
       "\n",
       "    format  revenue  \n",
       "0  Display    29698  \n",
       "1  Display     4171  "
      ]
     },
     "execution_count": 18,
     "metadata": {},
     "output_type": "execute_result"
    }
   ],
   "source": [
    "# filter by only core product\n",
    "core_df = df.loc[(df['product'] == \"Core\")]\n",
    "core_df.head(2)"
   ]
  },
  {
   "cell_type": "code",
   "execution_count": 19,
   "metadata": {
    "ExecuteTime": {
     "end_time": "2021-01-05T18:51:38.708377Z",
     "start_time": "2021-01-05T18:51:38.676461Z"
    }
   },
   "outputs": [
    {
     "data": {
      "text/html": [
       "<div>\n",
       "<style scoped>\n",
       "    .dataframe tbody tr th:only-of-type {\n",
       "        vertical-align: middle;\n",
       "    }\n",
       "\n",
       "    .dataframe tbody tr th {\n",
       "        vertical-align: top;\n",
       "    }\n",
       "\n",
       "    .dataframe thead th {\n",
       "        text-align: right;\n",
       "    }\n",
       "</style>\n",
       "<table border=\"1\" class=\"dataframe\">\n",
       "  <thead>\n",
       "    <tr style=\"text-align: right;\">\n",
       "      <th></th>\n",
       "      <th>revenue_Display</th>\n",
       "      <th>revenue_Video</th>\n",
       "      <th>core_revenue_total</th>\n",
       "    </tr>\n",
       "    <tr>\n",
       "      <th>year</th>\n",
       "      <th></th>\n",
       "      <th></th>\n",
       "      <th></th>\n",
       "    </tr>\n",
       "  </thead>\n",
       "  <tbody>\n",
       "    <tr>\n",
       "      <td>2017</td>\n",
       "      <td>3213743</td>\n",
       "      <td>14975</td>\n",
       "      <td>3228718</td>\n",
       "    </tr>\n",
       "    <tr>\n",
       "      <td>2018</td>\n",
       "      <td>6453001</td>\n",
       "      <td>22784</td>\n",
       "      <td>6475785</td>\n",
       "    </tr>\n",
       "    <tr>\n",
       "      <td>2019</td>\n",
       "      <td>3912259</td>\n",
       "      <td>25137</td>\n",
       "      <td>3937396</td>\n",
       "    </tr>\n",
       "  </tbody>\n",
       "</table>\n",
       "</div>"
      ],
      "text/plain": [
       "      revenue_Display  revenue_Video  core_revenue_total\n",
       "year                                                    \n",
       "2017          3213743          14975             3228718\n",
       "2018          6453001          22784             6475785\n",
       "2019          3912259          25137             3937396"
      ]
     },
     "execution_count": 19,
     "metadata": {},
     "output_type": "execute_result"
    }
   ],
   "source": [
    "# group by company, aggregate revenue\n",
    "pivot_year_core_df = core_df.pivot_table(index='year', columns='format', aggfunc={'revenue': 'sum'}).fillna(0)\n",
    "\n",
    "# flatten index\n",
    "year_core_df = flatten_cols(pivot_year_core_df)\n",
    "\n",
    "# add a total revenue column\n",
    "year_core_df['core_revenue_total'] = year_core_df.sum(numeric_only=True, axis=1)\n",
    "year_core_df"
   ]
  },
  {
   "cell_type": "code",
   "execution_count": 20,
   "metadata": {
    "ExecuteTime": {
     "end_time": "2021-01-05T18:51:38.729329Z",
     "start_time": "2021-01-05T18:51:38.712365Z"
    }
   },
   "outputs": [
    {
     "data": {
      "text/html": [
       "<div>\n",
       "<style scoped>\n",
       "    .dataframe tbody tr th:only-of-type {\n",
       "        vertical-align: middle;\n",
       "    }\n",
       "\n",
       "    .dataframe tbody tr th {\n",
       "        vertical-align: top;\n",
       "    }\n",
       "\n",
       "    .dataframe thead th {\n",
       "        text-align: right;\n",
       "    }\n",
       "</style>\n",
       "<table border=\"1\" class=\"dataframe\">\n",
       "  <thead>\n",
       "    <tr style=\"text-align: right;\">\n",
       "      <th></th>\n",
       "      <th>year</th>\n",
       "      <th>revenue_Display</th>\n",
       "      <th>revenue_Video</th>\n",
       "      <th>core_revenue_total</th>\n",
       "    </tr>\n",
       "  </thead>\n",
       "  <tbody>\n",
       "    <tr>\n",
       "      <td>0</td>\n",
       "      <td>2017</td>\n",
       "      <td>99.536194</td>\n",
       "      <td>0.463806</td>\n",
       "      <td>100.0</td>\n",
       "    </tr>\n",
       "    <tr>\n",
       "      <td>1</td>\n",
       "      <td>2018</td>\n",
       "      <td>99.648166</td>\n",
       "      <td>0.351834</td>\n",
       "      <td>100.0</td>\n",
       "    </tr>\n",
       "    <tr>\n",
       "      <td>2</td>\n",
       "      <td>2019</td>\n",
       "      <td>99.361583</td>\n",
       "      <td>0.638417</td>\n",
       "      <td>100.0</td>\n",
       "    </tr>\n",
       "  </tbody>\n",
       "</table>\n",
       "</div>"
      ],
      "text/plain": [
       "   year  revenue_Display  revenue_Video  core_revenue_total\n",
       "0  2017        99.536194       0.463806               100.0\n",
       "1  2018        99.648166       0.351834               100.0\n",
       "2  2019        99.361583       0.638417               100.0"
      ]
     },
     "execution_count": 20,
     "metadata": {},
     "output_type": "execute_result"
    }
   ],
   "source": [
    "# convert to percentages\n",
    "year_core_perc_df = year_core_df.div(year_core_df['core_revenue_total'], axis=0) * 100 \n",
    "year_core_perc_df = year_core_perc_df.reset_index()\n",
    "year_core_perc_df"
   ]
  },
  {
   "cell_type": "code",
   "execution_count": 21,
   "metadata": {
    "ExecuteTime": {
     "end_time": "2021-01-05T18:51:38.740288Z",
     "start_time": "2021-01-05T18:51:38.732309Z"
    }
   },
   "outputs": [
    {
     "name": "stdout",
     "output_type": "stream",
     "text": [
      "In 2017 Core product had a 0.46% of its revenue come from video\n",
      "In 2018 Core product had a 0.35% of its revenue come from video\n",
      "In 2019 Core product had a 0.64% of its revenue come from video\n",
      "\n",
      "Overall, a fairly small percentage at below 1% in each year\n"
     ]
    }
   ],
   "source": [
    "# answer question\n",
    "for row in year_core_perc_df.itertuples():\n",
    "    print(f\"In {row.year} Core product had a {round(row.revenue_Video, 2)}% of its revenue come from video\")\n",
    "\n",
    "print(\"\\nOverall, a fairly small percentage at below 1% in each year\")"
   ]
  },
  {
   "cell_type": "markdown",
   "metadata": {
    "ExecuteTime": {
     "end_time": "2021-01-04T02:56:19.548596Z",
     "start_time": "2021-01-04T02:56:19.541580Z"
    }
   },
   "source": [
    "## Question 5\n",
    "Which month saw the highest month-over-month (MoM) percent change in total\n",
    "revenue?"
   ]
  },
  {
   "cell_type": "code",
   "execution_count": 22,
   "metadata": {
    "ExecuteTime": {
     "end_time": "2021-01-05T18:51:38.760237Z",
     "start_time": "2021-01-05T18:51:38.742283Z"
    }
   },
   "outputs": [
    {
     "data": {
      "text/html": [
       "<div>\n",
       "<style scoped>\n",
       "    .dataframe tbody tr th:only-of-type {\n",
       "        vertical-align: middle;\n",
       "    }\n",
       "\n",
       "    .dataframe tbody tr th {\n",
       "        vertical-align: top;\n",
       "    }\n",
       "\n",
       "    .dataframe thead th {\n",
       "        text-align: right;\n",
       "    }\n",
       "</style>\n",
       "<table border=\"1\" class=\"dataframe\">\n",
       "  <thead>\n",
       "    <tr style=\"text-align: right;\">\n",
       "      <th></th>\n",
       "      <th>revenue</th>\n",
       "    </tr>\n",
       "    <tr>\n",
       "      <th>date</th>\n",
       "      <th></th>\n",
       "    </tr>\n",
       "  </thead>\n",
       "  <tbody>\n",
       "    <tr>\n",
       "      <td>2017-01-01</td>\n",
       "      <td>188665</td>\n",
       "    </tr>\n",
       "    <tr>\n",
       "      <td>2017-02-01</td>\n",
       "      <td>230227</td>\n",
       "    </tr>\n",
       "    <tr>\n",
       "      <td>2017-03-01</td>\n",
       "      <td>304013</td>\n",
       "    </tr>\n",
       "    <tr>\n",
       "      <td>2017-04-01</td>\n",
       "      <td>195051</td>\n",
       "    </tr>\n",
       "    <tr>\n",
       "      <td>2017-05-01</td>\n",
       "      <td>243337</td>\n",
       "    </tr>\n",
       "  </tbody>\n",
       "</table>\n",
       "</div>"
      ],
      "text/plain": [
       "            revenue\n",
       "date               \n",
       "2017-01-01   188665\n",
       "2017-02-01   230227\n",
       "2017-03-01   304013\n",
       "2017-04-01   195051\n",
       "2017-05-01   243337"
      ]
     },
     "execution_count": 22,
     "metadata": {},
     "output_type": "execute_result"
    }
   ],
   "source": [
    "# aggregate revenue by month\n",
    "month_rev_df = df.groupby('date').agg({'revenue': 'sum'})\n",
    "month_rev_df.head()"
   ]
  },
  {
   "cell_type": "code",
   "execution_count": 23,
   "metadata": {
    "ExecuteTime": {
     "end_time": "2021-01-05T18:51:38.788162Z",
     "start_time": "2021-01-05T18:51:38.768215Z"
    }
   },
   "outputs": [
    {
     "data": {
      "text/html": [
       "<div>\n",
       "<style scoped>\n",
       "    .dataframe tbody tr th:only-of-type {\n",
       "        vertical-align: middle;\n",
       "    }\n",
       "\n",
       "    .dataframe tbody tr th {\n",
       "        vertical-align: top;\n",
       "    }\n",
       "\n",
       "    .dataframe thead th {\n",
       "        text-align: right;\n",
       "    }\n",
       "</style>\n",
       "<table border=\"1\" class=\"dataframe\">\n",
       "  <thead>\n",
       "    <tr style=\"text-align: right;\">\n",
       "      <th></th>\n",
       "      <th>revenue</th>\n",
       "      <th>percent_change</th>\n",
       "    </tr>\n",
       "    <tr>\n",
       "      <th>date</th>\n",
       "      <th></th>\n",
       "      <th></th>\n",
       "    </tr>\n",
       "  </thead>\n",
       "  <tbody>\n",
       "    <tr>\n",
       "      <td>2017-01-01</td>\n",
       "      <td>188665</td>\n",
       "      <td>NaN</td>\n",
       "    </tr>\n",
       "    <tr>\n",
       "      <td>2017-02-01</td>\n",
       "      <td>230227</td>\n",
       "      <td>22.029523</td>\n",
       "    </tr>\n",
       "    <tr>\n",
       "      <td>2017-03-01</td>\n",
       "      <td>304013</td>\n",
       "      <td>32.049238</td>\n",
       "    </tr>\n",
       "    <tr>\n",
       "      <td>2017-04-01</td>\n",
       "      <td>195051</td>\n",
       "      <td>-35.841230</td>\n",
       "    </tr>\n",
       "    <tr>\n",
       "      <td>2017-05-01</td>\n",
       "      <td>243337</td>\n",
       "      <td>24.755577</td>\n",
       "    </tr>\n",
       "  </tbody>\n",
       "</table>\n",
       "</div>"
      ],
      "text/plain": [
       "            revenue  percent_change\n",
       "date                               \n",
       "2017-01-01   188665             NaN\n",
       "2017-02-01   230227       22.029523\n",
       "2017-03-01   304013       32.049238\n",
       "2017-04-01   195051      -35.841230\n",
       "2017-05-01   243337       24.755577"
      ]
     },
     "execution_count": 23,
     "metadata": {},
     "output_type": "execute_result"
    }
   ],
   "source": [
    "# create percent change column\n",
    "month_rev_df['percent_change'] = (month_rev_df['revenue'].pct_change()) * 100\n",
    "month_rev_df.head()"
   ]
  },
  {
   "cell_type": "code",
   "execution_count": 24,
   "metadata": {
    "ExecuteTime": {
     "end_time": "2021-01-05T18:51:38.803121Z",
     "start_time": "2021-01-05T18:51:38.794146Z"
    }
   },
   "outputs": [],
   "source": [
    "# stats on percent change by month\n",
    "max_revenue_chg = month_rev_df['percent_change'].max()\n",
    "\n",
    "# year and month with highest revenue change\n",
    "highest_month_chg = month_rev_df['percent_change'].idxmax().strftime(\"%Y-%m\")"
   ]
  },
  {
   "cell_type": "code",
   "execution_count": 25,
   "metadata": {
    "ExecuteTime": {
     "end_time": "2021-01-05T18:51:38.813101Z",
     "start_time": "2021-01-05T18:51:38.807112Z"
    }
   },
   "outputs": [
    {
     "name": "stdout",
     "output_type": "stream",
     "text": [
      "2017-12 had the largest MoM revenue growth at 60.7%\n"
     ]
    }
   ],
   "source": [
    "# answer question\n",
    "\n",
    "print(f\"{highest_month_chg} had the largest MoM revenue growth at {round(max_revenue_chg, 1)}%\")"
   ]
  },
  {
   "cell_type": "markdown",
   "metadata": {},
   "source": [
    "# Additional Analysis"
   ]
  },
  {
   "cell_type": "code",
   "execution_count": 26,
   "metadata": {
    "ExecuteTime": {
     "end_time": "2021-01-05T18:51:38.822070Z",
     "start_time": "2021-01-05T18:51:38.817085Z"
    }
   },
   "outputs": [],
   "source": [
    "## use pandas profiling package (to view you may need to pip install pandas-profiling)\n",
    "## commented out: nothing too interesting from summary\n",
    "# import pandas_profiling\n",
    "\n",
    "# prof_report = pandas_profiling.ProfileReport(df , title = 'Summary Profile')\n",
    "# prof_report.to_widgets()"
   ]
  },
  {
   "cell_type": "markdown",
   "metadata": {},
   "source": [
    "## YOY Rolling Quarter\n",
    "Show revenue performance of time. Using rolling quarters to avoid any monthly outlier interference. Will show:\n",
    " - Overall performance\n",
    " - YOY total change by rolling quarter\n",
    " - YOY percent change by rolling quarter"
   ]
  },
  {
   "cell_type": "code",
   "execution_count": 27,
   "metadata": {
    "ExecuteTime": {
     "end_time": "2021-01-05T18:51:38.881910Z",
     "start_time": "2021-01-05T18:51:38.826062Z"
    }
   },
   "outputs": [
    {
     "name": "stdout",
     "output_type": "stream",
     "text": [
      "NaN are expected as there wouldn't be same periods the year prior for the earliest months in the dataset\n"
     ]
    },
    {
     "data": {
      "text/html": [
       "<div>\n",
       "<style scoped>\n",
       "    .dataframe tbody tr th:only-of-type {\n",
       "        vertical-align: middle;\n",
       "    }\n",
       "\n",
       "    .dataframe tbody tr th {\n",
       "        vertical-align: top;\n",
       "    }\n",
       "\n",
       "    .dataframe thead th {\n",
       "        text-align: right;\n",
       "    }\n",
       "</style>\n",
       "<table border=\"1\" class=\"dataframe\">\n",
       "  <thead>\n",
       "    <tr style=\"text-align: right;\">\n",
       "      <th></th>\n",
       "      <th>revenue</th>\n",
       "      <th>trailing_qtr_rev</th>\n",
       "      <th>yoy_qtr_rev_change</th>\n",
       "      <th>yoy_qtr_rev_change_perc</th>\n",
       "    </tr>\n",
       "    <tr>\n",
       "      <th>date</th>\n",
       "      <th></th>\n",
       "      <th></th>\n",
       "      <th></th>\n",
       "      <th></th>\n",
       "    </tr>\n",
       "  </thead>\n",
       "  <tbody>\n",
       "    <tr>\n",
       "      <td>2017-01-01</td>\n",
       "      <td>188665</td>\n",
       "      <td>0.0</td>\n",
       "      <td>NaN</td>\n",
       "      <td>NaN</td>\n",
       "    </tr>\n",
       "    <tr>\n",
       "      <td>2017-02-01</td>\n",
       "      <td>230227</td>\n",
       "      <td>0.0</td>\n",
       "      <td>NaN</td>\n",
       "      <td>NaN</td>\n",
       "    </tr>\n",
       "    <tr>\n",
       "      <td>2017-03-01</td>\n",
       "      <td>304013</td>\n",
       "      <td>722905.0</td>\n",
       "      <td>NaN</td>\n",
       "      <td>NaN</td>\n",
       "    </tr>\n",
       "    <tr>\n",
       "      <td>2017-04-01</td>\n",
       "      <td>195051</td>\n",
       "      <td>729291.0</td>\n",
       "      <td>NaN</td>\n",
       "      <td>NaN</td>\n",
       "    </tr>\n",
       "    <tr>\n",
       "      <td>2017-05-01</td>\n",
       "      <td>243337</td>\n",
       "      <td>742401.0</td>\n",
       "      <td>NaN</td>\n",
       "      <td>NaN</td>\n",
       "    </tr>\n",
       "  </tbody>\n",
       "</table>\n",
       "</div>"
      ],
      "text/plain": [
       "            revenue  trailing_qtr_rev  yoy_qtr_rev_change  \\\n",
       "date                                                        \n",
       "2017-01-01   188665               0.0                 NaN   \n",
       "2017-02-01   230227               0.0                 NaN   \n",
       "2017-03-01   304013          722905.0                 NaN   \n",
       "2017-04-01   195051          729291.0                 NaN   \n",
       "2017-05-01   243337          742401.0                 NaN   \n",
       "\n",
       "            yoy_qtr_rev_change_perc  \n",
       "date                                 \n",
       "2017-01-01                      NaN  \n",
       "2017-02-01                      NaN  \n",
       "2017-03-01                      NaN  \n",
       "2017-04-01                      NaN  \n",
       "2017-05-01                      NaN  "
      ]
     },
     "execution_count": 27,
     "metadata": {},
     "output_type": "execute_result"
    }
   ],
   "source": [
    "# create dataframe with rolling qtr revenue\n",
    "qtr_df = df.pivot_table(index='date', aggfunc={'revenue': 'sum'}).fillna(0)\n",
    "qtr_df['trailing_qtr_rev'] = qtr_df.rolling(3).sum().fillna(0)\n",
    "qtr_df['yoy_qtr_rev_change'] = qtr_df['trailing_qtr_rev'] - qtr_df['trailing_qtr_rev'].shift(12)\n",
    "qtr_df['yoy_qtr_rev_change_perc'] = (qtr_df['trailing_qtr_rev'] / qtr_df['trailing_qtr_rev'].shift(12) - 1) * 100\n",
    "\n",
    "print(\"NaN are expected as there wouldn't be same periods the year prior for the earliest months in the dataset\")\n",
    "qtr_df.head()"
   ]
  },
  {
   "cell_type": "code",
   "execution_count": 28,
   "metadata": {
    "ExecuteTime": {
     "end_time": "2021-01-05T18:51:38.920805Z",
     "start_time": "2021-01-05T18:51:38.885903Z"
    }
   },
   "outputs": [
    {
     "data": {
      "text/html": [
       "<div>\n",
       "<style scoped>\n",
       "    .dataframe tbody tr th:only-of-type {\n",
       "        vertical-align: middle;\n",
       "    }\n",
       "\n",
       "    .dataframe tbody tr th {\n",
       "        vertical-align: top;\n",
       "    }\n",
       "\n",
       "    .dataframe thead th {\n",
       "        text-align: right;\n",
       "    }\n",
       "</style>\n",
       "<table border=\"1\" class=\"dataframe\">\n",
       "  <thead>\n",
       "    <tr style=\"text-align: right;\">\n",
       "      <th></th>\n",
       "      <th>date</th>\n",
       "      <th>revenue</th>\n",
       "      <th>trailing_qtr_rev</th>\n",
       "      <th>yoy_qtr_rev_change</th>\n",
       "      <th>yoy_qtr_rev_change_perc</th>\n",
       "      <th>year_month_label</th>\n",
       "    </tr>\n",
       "  </thead>\n",
       "  <tbody>\n",
       "    <tr>\n",
       "      <td>0</td>\n",
       "      <td>2018-03-01</td>\n",
       "      <td>551398</td>\n",
       "      <td>1525107.0</td>\n",
       "      <td>802202.0</td>\n",
       "      <td>110.969214</td>\n",
       "      <td>2018-03</td>\n",
       "    </tr>\n",
       "    <tr>\n",
       "      <td>1</td>\n",
       "      <td>2018-04-01</td>\n",
       "      <td>503398</td>\n",
       "      <td>1582148.0</td>\n",
       "      <td>852857.0</td>\n",
       "      <td>116.943305</td>\n",
       "      <td>2018-04</td>\n",
       "    </tr>\n",
       "    <tr>\n",
       "      <td>2</td>\n",
       "      <td>2018-05-01</td>\n",
       "      <td>433739</td>\n",
       "      <td>1488535.0</td>\n",
       "      <td>746134.0</td>\n",
       "      <td>100.502828</td>\n",
       "      <td>2018-05</td>\n",
       "    </tr>\n",
       "    <tr>\n",
       "      <td>3</td>\n",
       "      <td>2018-06-01</td>\n",
       "      <td>464376</td>\n",
       "      <td>1401513.0</td>\n",
       "      <td>627169.0</td>\n",
       "      <td>80.993589</td>\n",
       "      <td>2018-06</td>\n",
       "    </tr>\n",
       "    <tr>\n",
       "      <td>4</td>\n",
       "      <td>2018-07-01</td>\n",
       "      <td>599930</td>\n",
       "      <td>1498045.0</td>\n",
       "      <td>702695.0</td>\n",
       "      <td>88.350412</td>\n",
       "      <td>2018-07</td>\n",
       "    </tr>\n",
       "  </tbody>\n",
       "</table>\n",
       "</div>"
      ],
      "text/plain": [
       "        date  revenue  trailing_qtr_rev  yoy_qtr_rev_change  \\\n",
       "0 2018-03-01   551398         1525107.0            802202.0   \n",
       "1 2018-04-01   503398         1582148.0            852857.0   \n",
       "2 2018-05-01   433739         1488535.0            746134.0   \n",
       "3 2018-06-01   464376         1401513.0            627169.0   \n",
       "4 2018-07-01   599930         1498045.0            702695.0   \n",
       "\n",
       "   yoy_qtr_rev_change_perc year_month_label  \n",
       "0               110.969214          2018-03  \n",
       "1               116.943305          2018-04  \n",
       "2               100.502828          2018-05  \n",
       "3                80.993589          2018-06  \n",
       "4                88.350412          2018-07  "
      ]
     },
     "execution_count": 28,
     "metadata": {},
     "output_type": "execute_result"
    }
   ],
   "source": [
    "# limit to periods that have YOY comps\n",
    "trim_qtr_df = qtr_df[14:].reset_index()\n",
    "\n",
    "# change index to year and month only\n",
    "trim_qtr_df['year_month_label'] = trim_qtr_df['date'].dt.to_period('m')\n",
    "\n",
    "# create csv\n",
    "trim_qtr_df.to_csv(\"data_exports/overall_qtr_sales.csv\", index=False)\n",
    "\n",
    "trim_qtr_df.head()"
   ]
  },
  {
   "cell_type": "code",
   "execution_count": 29,
   "metadata": {
    "ExecuteTime": {
     "end_time": "2021-01-05T18:51:39.939222Z",
     "start_time": "2021-01-05T18:51:38.923797Z"
    }
   },
   "outputs": [
    {
     "data": {
      "image/png": "[encoded data removed]",
      "text/plain": [
       "<Figure size 1008x720 with 3 Axes>"
      ]
     },
     "metadata": {
      "needs_background": "light"
     },
     "output_type": "display_data"
    }
   ],
   "source": [
    "import warnings\n",
    "warnings.simplefilter(action='ignore', category=FutureWarning)\n",
    "colors = [\"#118AB2\", \"#EF476F\", \"#FFD166\", \"#06D6A0\", \"#EE754D\", \"#002E99\"]\n",
    "\n",
    "# plot rolling quarters\n",
    "fig, axs = plt.subplots(3)\n",
    "fig.set_size_inches(14, 10)\n",
    "fig.tight_layout(pad=3)\n",
    "\n",
    "axs[0].plot(trim_qtr_df['date'], trim_qtr_df['trailing_qtr_rev'], color=colors[0], marker=\"o\")\n",
    "axs[0].set_title(\"Total Revenue by Trailing Qtr\")\n",
    "\n",
    "axs[1].bar(trim_qtr_df['date'], trim_qtr_df['yoy_qtr_rev_change'], color=colors[1], width=20)\n",
    "axs[1].set_title(\"YOY Revenue Total Change by Trailing Qtr\")\n",
    "\n",
    "axs[2].bar(trim_qtr_df['date'], trim_qtr_df['yoy_qtr_rev_change_perc'], color=colors[2], width=20)\n",
    "axs[2].set_title(\"YOY Revenue Percent Change by Trailing Qtr\")\n",
    "\n",
    "\n",
    "# add horizontal line at 0 for all axes\n",
    "for x in range(len(axs)):\n",
    "    axs[x].axhline(y=0, color='black', linewidth=1)\n",
    "\n",
    "plt.show()"
   ]
  },
  {
   "cell_type": "markdown",
   "metadata": {},
   "source": [
    "## Rolling 24 Month Dataframe\n",
    "Create a rolling 24 month dataframe which is going to be used for both the customer and product analysis sections"
   ]
  },
  {
   "cell_type": "code",
   "execution_count": 30,
   "metadata": {
    "ExecuteTime": {
     "end_time": "2021-01-05T18:51:39.955180Z",
     "start_time": "2021-01-05T18:51:39.941217Z"
    }
   },
   "outputs": [
    {
     "data": {
      "text/plain": [
       "count                    1003\n",
       "unique                     24\n",
       "top       2018-09-01 00:00:00\n",
       "freq                       48\n",
       "first     2017-10-01 00:00:00\n",
       "last      2019-09-01 00:00:00\n",
       "Name: date, dtype: object"
      ]
     },
     "execution_count": 30,
     "metadata": {},
     "output_type": "execute_result"
    }
   ],
   "source": [
    "# get 24 month period for analysis\n",
    "start_date = date(2017, 9, 1).strftime(\"%Y-%m-%d\")\n",
    "last_24mos = df.loc[df['date'] > start_date]\n",
    "last_24mos['date'].describe()"
   ]
  },
  {
   "cell_type": "code",
   "execution_count": 31,
   "metadata": {
    "ExecuteTime": {
     "end_time": "2021-01-05T18:51:39.963168Z",
     "start_time": "2021-01-05T18:51:39.957175Z"
    }
   },
   "outputs": [],
   "source": [
    "# function which adds a YOY period for a rolling 24 months \n",
    "def add_yoy_period(df, period_id):\n",
    "    \"\"\"\n",
    "    Dataframe specific function which is used to create a new column \"yoy_period\" that has last year and current year periods \n",
    "    distinctly identified. Must have 24 total periods (months).\n",
    "\n",
    "    Parameters:\n",
    "        df: the dataframe being used to derive yoy period from.\n",
    "        col_name: the column you are using to derive the YOY periods (likely month, period, etc.)\n",
    "  \n",
    "    \"\"\"\n",
    "    # get the year over year periods\n",
    "    periods = df[period_id].unique()\n",
    "    periods_df = pd.DataFrame({period_id : periods}).sort_values(period_id, ascending=True)\n",
    "\n",
    "    # get first 12 periods\n",
    "    ly_period_df = periods_df.iloc[0:12, :]\n",
    "    ly_period_df[\"yoy_period\"] = \"last year\"\n",
    "\n",
    "    # get last 12 periods\n",
    "    cy_period_df = periods_df.iloc[12:, :]\n",
    "    cy_period_df[\"yoy_period\"] = \"current year\"\n",
    "\n",
    "    periods_df = pd.concat([ly_period_df, cy_period_df])\n",
    "\n",
    "    # merge with the existing dataframe\n",
    "    df = df.merge(periods_df, on=period_id)\n",
    "\n",
    "    return df"
   ]
  },
  {
   "cell_type": "code",
   "execution_count": 32,
   "metadata": {
    "ExecuteTime": {
     "end_time": "2021-01-05T18:51:39.990086Z",
     "start_time": "2021-01-05T18:51:39.964155Z"
    }
   },
   "outputs": [
    {
     "name": "stderr",
     "output_type": "stream",
     "text": [
      "C:\\Users\\adamj\\Anaconda3\\lib\\site-packages\\ipykernel_launcher.py:18: SettingWithCopyWarning: \n",
      "A value is trying to be set on a copy of a slice from a DataFrame.\n",
      "Try using .loc[row_indexer,col_indexer] = value instead\n",
      "\n",
      "See the caveats in the documentation: http://pandas.pydata.org/pandas-docs/stable/user_guide/indexing.html#returning-a-view-versus-a-copy\n",
      "C:\\Users\\adamj\\Anaconda3\\lib\\site-packages\\ipykernel_launcher.py:22: SettingWithCopyWarning: \n",
      "A value is trying to be set on a copy of a slice from a DataFrame.\n",
      "Try using .loc[row_indexer,col_indexer] = value instead\n",
      "\n",
      "See the caveats in the documentation: http://pandas.pydata.org/pandas-docs/stable/user_guide/indexing.html#returning-a-view-versus-a-copy\n"
     ]
    },
    {
     "data": {
      "text/html": [
       "<div>\n",
       "<style scoped>\n",
       "    .dataframe tbody tr th:only-of-type {\n",
       "        vertical-align: middle;\n",
       "    }\n",
       "\n",
       "    .dataframe tbody tr th {\n",
       "        vertical-align: top;\n",
       "    }\n",
       "\n",
       "    .dataframe thead th {\n",
       "        text-align: right;\n",
       "    }\n",
       "</style>\n",
       "<table border=\"1\" class=\"dataframe\">\n",
       "  <thead>\n",
       "    <tr style=\"text-align: right;\">\n",
       "      <th></th>\n",
       "      <th>date</th>\n",
       "      <th>year</th>\n",
       "      <th>quarter</th>\n",
       "      <th>month</th>\n",
       "      <th>month_num</th>\n",
       "      <th>company</th>\n",
       "      <th>product</th>\n",
       "      <th>device</th>\n",
       "      <th>format</th>\n",
       "      <th>revenue</th>\n",
       "      <th>yoy_period</th>\n",
       "    </tr>\n",
       "  </thead>\n",
       "  <tbody>\n",
       "    <tr>\n",
       "      <td>0</td>\n",
       "      <td>2019-09-01</td>\n",
       "      <td>2019</td>\n",
       "      <td>Qtr 3</td>\n",
       "      <td>September</td>\n",
       "      <td>9</td>\n",
       "      <td>Apple</td>\n",
       "      <td>Core</td>\n",
       "      <td>Mobile</td>\n",
       "      <td>Display</td>\n",
       "      <td>29698</td>\n",
       "      <td>current year</td>\n",
       "    </tr>\n",
       "    <tr>\n",
       "      <td>1</td>\n",
       "      <td>2019-09-01</td>\n",
       "      <td>2019</td>\n",
       "      <td>Qtr 3</td>\n",
       "      <td>September</td>\n",
       "      <td>9</td>\n",
       "      <td>Apple</td>\n",
       "      <td>Core</td>\n",
       "      <td>Desktop</td>\n",
       "      <td>Display</td>\n",
       "      <td>4171</td>\n",
       "      <td>current year</td>\n",
       "    </tr>\n",
       "    <tr>\n",
       "      <td>2</td>\n",
       "      <td>2019-09-01</td>\n",
       "      <td>2019</td>\n",
       "      <td>Qtr 3</td>\n",
       "      <td>September</td>\n",
       "      <td>9</td>\n",
       "      <td>Pear</td>\n",
       "      <td>Core</td>\n",
       "      <td>Desktop</td>\n",
       "      <td>Display</td>\n",
       "      <td>55194</td>\n",
       "      <td>current year</td>\n",
       "    </tr>\n",
       "    <tr>\n",
       "      <td>3</td>\n",
       "      <td>2019-09-01</td>\n",
       "      <td>2019</td>\n",
       "      <td>Qtr 3</td>\n",
       "      <td>September</td>\n",
       "      <td>9</td>\n",
       "      <td>Orange</td>\n",
       "      <td>Social</td>\n",
       "      <td>Mobile</td>\n",
       "      <td>Video</td>\n",
       "      <td>3536</td>\n",
       "      <td>current year</td>\n",
       "    </tr>\n",
       "    <tr>\n",
       "      <td>4</td>\n",
       "      <td>2019-09-01</td>\n",
       "      <td>2019</td>\n",
       "      <td>Qtr 3</td>\n",
       "      <td>September</td>\n",
       "      <td>9</td>\n",
       "      <td>Orange</td>\n",
       "      <td>Social</td>\n",
       "      <td>Mobile</td>\n",
       "      <td>Display</td>\n",
       "      <td>1041</td>\n",
       "      <td>current year</td>\n",
       "    </tr>\n",
       "  </tbody>\n",
       "</table>\n",
       "</div>"
      ],
      "text/plain": [
       "        date  year quarter      month  month_num company product   device  \\\n",
       "0 2019-09-01  2019   Qtr 3  September          9   Apple    Core   Mobile   \n",
       "1 2019-09-01  2019   Qtr 3  September          9   Apple    Core  Desktop   \n",
       "2 2019-09-01  2019   Qtr 3  September          9    Pear    Core  Desktop   \n",
       "3 2019-09-01  2019   Qtr 3  September          9  Orange  Social   Mobile   \n",
       "4 2019-09-01  2019   Qtr 3  September          9  Orange  Social   Mobile   \n",
       "\n",
       "    format  revenue    yoy_period  \n",
       "0  Display    29698  current year  \n",
       "1  Display     4171  current year  \n",
       "2  Display    55194  current year  \n",
       "3    Video     3536  current year  \n",
       "4  Display     1041  current year  "
      ]
     },
     "execution_count": 32,
     "metadata": {},
     "output_type": "execute_result"
    }
   ],
   "source": [
    "# add in a YOY period column\n",
    "####################################\n",
    "# Note: warning shouldn't be a problem, it is from the temporary table in the function that's merged with the \n",
    "# passed in dataframe and discarded\n",
    "####################################\n",
    "\n",
    "last_24mos_df = add_yoy_period(last_24mos, 'date')\n",
    "last_24mos_df.head()"
   ]
  },
  {
   "cell_type": "markdown",
   "metadata": {},
   "source": [
    "## Customer Analysis\n",
    "Will use the most recent rolling 24 months to hightlight current status and YOY change for customers. Show the following customer views:\n",
    " - Total revenue\n",
    " - YOY revenue change\n",
    " - Number of products\n",
    " - YOY change in number of products"
   ]
  },
  {
   "cell_type": "markdown",
   "metadata": {
    "ExecuteTime": {
     "end_time": "2021-01-05T14:50:22.359180Z",
     "start_time": "2021-01-05T14:50:22.355190Z"
    }
   },
   "source": [
    "### Year Over Year\n",
    "Highlights YOY Trends"
   ]
  },
  {
   "cell_type": "code",
   "execution_count": 33,
   "metadata": {
    "ExecuteTime": {
     "end_time": "2021-01-05T18:51:40.016018Z",
     "start_time": "2021-01-05T18:51:39.992081Z"
    }
   },
   "outputs": [
    {
     "data": {
      "text/html": [
       "<div>\n",
       "<style scoped>\n",
       "    .dataframe tbody tr th:only-of-type {\n",
       "        vertical-align: middle;\n",
       "    }\n",
       "\n",
       "    .dataframe tbody tr th {\n",
       "        vertical-align: top;\n",
       "    }\n",
       "\n",
       "    .dataframe thead th {\n",
       "        text-align: right;\n",
       "    }\n",
       "</style>\n",
       "<table border=\"1\" class=\"dataframe\">\n",
       "  <thead>\n",
       "    <tr style=\"text-align: right;\">\n",
       "      <th></th>\n",
       "      <th>company</th>\n",
       "      <th>revenue_current year</th>\n",
       "      <th>revenue_last year</th>\n",
       "      <th>yoy_revenue_chg</th>\n",
       "    </tr>\n",
       "  </thead>\n",
       "  <tbody>\n",
       "    <tr>\n",
       "      <td>0</td>\n",
       "      <td>Amazon</td>\n",
       "      <td>174765.0</td>\n",
       "      <td>388213.0</td>\n",
       "      <td>-54.982188</td>\n",
       "    </tr>\n",
       "    <tr>\n",
       "      <td>1</td>\n",
       "      <td>Apple</td>\n",
       "      <td>896148.0</td>\n",
       "      <td>649654.0</td>\n",
       "      <td>37.942351</td>\n",
       "    </tr>\n",
       "    <tr>\n",
       "      <td>2</td>\n",
       "      <td>Ganges</td>\n",
       "      <td>249213.0</td>\n",
       "      <td>574901.0</td>\n",
       "      <td>-56.651145</td>\n",
       "    </tr>\n",
       "    <tr>\n",
       "      <td>3</td>\n",
       "      <td>Grape</td>\n",
       "      <td>0.0</td>\n",
       "      <td>718932.0</td>\n",
       "      <td>-100.000000</td>\n",
       "    </tr>\n",
       "    <tr>\n",
       "      <td>4</td>\n",
       "      <td>Kiwi</td>\n",
       "      <td>504376.0</td>\n",
       "      <td>339019.0</td>\n",
       "      <td>48.775142</td>\n",
       "    </tr>\n",
       "    <tr>\n",
       "      <td>5</td>\n",
       "      <td>Mississippi</td>\n",
       "      <td>450680.0</td>\n",
       "      <td>414979.0</td>\n",
       "      <td>8.603086</td>\n",
       "    </tr>\n",
       "    <tr>\n",
       "      <td>6</td>\n",
       "      <td>Nile</td>\n",
       "      <td>485294.0</td>\n",
       "      <td>299326.0</td>\n",
       "      <td>62.128916</td>\n",
       "    </tr>\n",
       "    <tr>\n",
       "      <td>7</td>\n",
       "      <td>Orange</td>\n",
       "      <td>581300.0</td>\n",
       "      <td>460682.0</td>\n",
       "      <td>26.182486</td>\n",
       "    </tr>\n",
       "    <tr>\n",
       "      <td>8</td>\n",
       "      <td>Pear</td>\n",
       "      <td>2398582.0</td>\n",
       "      <td>609001.0</td>\n",
       "      <td>293.855183</td>\n",
       "    </tr>\n",
       "    <tr>\n",
       "      <td>9</td>\n",
       "      <td>Yangtze</td>\n",
       "      <td>1270916.0</td>\n",
       "      <td>1561540.0</td>\n",
       "      <td>-18.611371</td>\n",
       "    </tr>\n",
       "  </tbody>\n",
       "</table>\n",
       "</div>"
      ],
      "text/plain": [
       "       company  revenue_current year  revenue_last year  yoy_revenue_chg\n",
       "0       Amazon              174765.0           388213.0       -54.982188\n",
       "1        Apple              896148.0           649654.0        37.942351\n",
       "2       Ganges              249213.0           574901.0       -56.651145\n",
       "3        Grape                   0.0           718932.0      -100.000000\n",
       "4         Kiwi              504376.0           339019.0        48.775142\n",
       "5  Mississippi              450680.0           414979.0         8.603086\n",
       "6         Nile              485294.0           299326.0        62.128916\n",
       "7       Orange              581300.0           460682.0        26.182486\n",
       "8         Pear             2398582.0           609001.0       293.855183\n",
       "9      Yangtze             1270916.0          1561540.0       -18.611371"
      ]
     },
     "execution_count": 33,
     "metadata": {},
     "output_type": "execute_result"
    }
   ],
   "source": [
    "# get year over year customer revenue\n",
    "cust_rev_pivot_df = last_24mos_df.pivot_table(index='company', columns='yoy_period', aggfunc={'revenue': 'sum'}).fillna(0)\n",
    "cust_rev_df = flatten_cols(cust_rev_pivot_df)\n",
    "cust_rev_df['yoy_revenue_chg'] = (cust_rev_df['revenue_current year'] / cust_rev_df['revenue_last year'] - 1) * 100\n",
    "cust_rev_df = cust_rev_df.reset_index()\n",
    "cust_rev_df"
   ]
  },
  {
   "cell_type": "code",
   "execution_count": 34,
   "metadata": {
    "ExecuteTime": {
     "end_time": "2021-01-05T18:51:40.050923Z",
     "start_time": "2021-01-05T18:51:40.018012Z"
    }
   },
   "outputs": [
    {
     "data": {
      "text/html": [
       "<div>\n",
       "<style scoped>\n",
       "    .dataframe tbody tr th:only-of-type {\n",
       "        vertical-align: middle;\n",
       "    }\n",
       "\n",
       "    .dataframe tbody tr th {\n",
       "        vertical-align: top;\n",
       "    }\n",
       "\n",
       "    .dataframe thead th {\n",
       "        text-align: right;\n",
       "    }\n",
       "</style>\n",
       "<table border=\"1\" class=\"dataframe\">\n",
       "  <thead>\n",
       "    <tr style=\"text-align: right;\">\n",
       "      <th></th>\n",
       "      <th>company</th>\n",
       "      <th>products_current year</th>\n",
       "      <th>products_last year</th>\n",
       "      <th>yoy_products_chg</th>\n",
       "    </tr>\n",
       "  </thead>\n",
       "  <tbody>\n",
       "    <tr>\n",
       "      <td>0</td>\n",
       "      <td>Amazon</td>\n",
       "      <td>3.0</td>\n",
       "      <td>4.0</td>\n",
       "      <td>-25.000000</td>\n",
       "    </tr>\n",
       "    <tr>\n",
       "      <td>1</td>\n",
       "      <td>Apple</td>\n",
       "      <td>1.0</td>\n",
       "      <td>1.0</td>\n",
       "      <td>0.000000</td>\n",
       "    </tr>\n",
       "    <tr>\n",
       "      <td>2</td>\n",
       "      <td>Ganges</td>\n",
       "      <td>3.0</td>\n",
       "      <td>3.0</td>\n",
       "      <td>0.000000</td>\n",
       "    </tr>\n",
       "    <tr>\n",
       "      <td>3</td>\n",
       "      <td>Grape</td>\n",
       "      <td>0.0</td>\n",
       "      <td>1.0</td>\n",
       "      <td>-100.000000</td>\n",
       "    </tr>\n",
       "    <tr>\n",
       "      <td>4</td>\n",
       "      <td>Kiwi</td>\n",
       "      <td>4.0</td>\n",
       "      <td>3.0</td>\n",
       "      <td>33.333333</td>\n",
       "    </tr>\n",
       "    <tr>\n",
       "      <td>5</td>\n",
       "      <td>Mississippi</td>\n",
       "      <td>3.0</td>\n",
       "      <td>4.0</td>\n",
       "      <td>-25.000000</td>\n",
       "    </tr>\n",
       "    <tr>\n",
       "      <td>6</td>\n",
       "      <td>Nile</td>\n",
       "      <td>1.0</td>\n",
       "      <td>1.0</td>\n",
       "      <td>0.000000</td>\n",
       "    </tr>\n",
       "    <tr>\n",
       "      <td>7</td>\n",
       "      <td>Orange</td>\n",
       "      <td>4.0</td>\n",
       "      <td>4.0</td>\n",
       "      <td>0.000000</td>\n",
       "    </tr>\n",
       "    <tr>\n",
       "      <td>8</td>\n",
       "      <td>Pear</td>\n",
       "      <td>1.0</td>\n",
       "      <td>1.0</td>\n",
       "      <td>0.000000</td>\n",
       "    </tr>\n",
       "    <tr>\n",
       "      <td>9</td>\n",
       "      <td>Yangtze</td>\n",
       "      <td>1.0</td>\n",
       "      <td>1.0</td>\n",
       "      <td>0.000000</td>\n",
       "    </tr>\n",
       "  </tbody>\n",
       "</table>\n",
       "</div>"
      ],
      "text/plain": [
       "       company  products_current year  products_last year  yoy_products_chg\n",
       "0       Amazon                    3.0                 4.0        -25.000000\n",
       "1        Apple                    1.0                 1.0          0.000000\n",
       "2       Ganges                    3.0                 3.0          0.000000\n",
       "3        Grape                    0.0                 1.0       -100.000000\n",
       "4         Kiwi                    4.0                 3.0         33.333333\n",
       "5  Mississippi                    3.0                 4.0        -25.000000\n",
       "6         Nile                    1.0                 1.0          0.000000\n",
       "7       Orange                    4.0                 4.0          0.000000\n",
       "8         Pear                    1.0                 1.0          0.000000\n",
       "9      Yangtze                    1.0                 1.0          0.000000"
      ]
     },
     "execution_count": 34,
     "metadata": {},
     "output_type": "execute_result"
    }
   ],
   "source": [
    "# get year over year product count\n",
    "cust_prod_pivot_df = last_24mos_df.pivot_table(index='company', columns='yoy_period', values='product',\n",
    "                                              aggfunc=pd.Series.nunique).fillna(0)\n",
    "\n",
    "# columns editing\n",
    "cust_prod_df = cust_prod_pivot_df.rename(columns={'current year': 'products_current year',\n",
    "                                                'last year': 'products_last year'})\n",
    "cust_prod_df.columns.name = None\n",
    "\n",
    "# add yoy change\n",
    "cust_prod_df['yoy_products_chg'] = (cust_prod_df['products_current year'] / cust_prod_df['products_last year'] - 1) * 100\n",
    "\n",
    "cust_prod_df = cust_prod_df.reset_index()\n",
    "cust_prod_df"
   ]
  },
  {
   "cell_type": "code",
   "execution_count": 35,
   "metadata": {
    "ExecuteTime": {
     "end_time": "2021-01-05T18:51:40.069872Z",
     "start_time": "2021-01-05T18:51:40.052918Z"
    }
   },
   "outputs": [
    {
     "data": {
      "text/html": [
       "<div>\n",
       "<style scoped>\n",
       "    .dataframe tbody tr th:only-of-type {\n",
       "        vertical-align: middle;\n",
       "    }\n",
       "\n",
       "    .dataframe tbody tr th {\n",
       "        vertical-align: top;\n",
       "    }\n",
       "\n",
       "    .dataframe thead th {\n",
       "        text-align: right;\n",
       "    }\n",
       "</style>\n",
       "<table border=\"1\" class=\"dataframe\">\n",
       "  <thead>\n",
       "    <tr style=\"text-align: right;\">\n",
       "      <th></th>\n",
       "      <th>company</th>\n",
       "      <th>revenue_current year</th>\n",
       "      <th>revenue_last year</th>\n",
       "      <th>yoy_revenue_chg</th>\n",
       "      <th>products_current year</th>\n",
       "      <th>products_last year</th>\n",
       "      <th>yoy_products_chg</th>\n",
       "    </tr>\n",
       "  </thead>\n",
       "  <tbody>\n",
       "    <tr>\n",
       "      <td>0</td>\n",
       "      <td>Amazon</td>\n",
       "      <td>174765.0</td>\n",
       "      <td>388213.0</td>\n",
       "      <td>-54.982188</td>\n",
       "      <td>3.0</td>\n",
       "      <td>4.0</td>\n",
       "      <td>-25.000000</td>\n",
       "    </tr>\n",
       "    <tr>\n",
       "      <td>1</td>\n",
       "      <td>Apple</td>\n",
       "      <td>896148.0</td>\n",
       "      <td>649654.0</td>\n",
       "      <td>37.942351</td>\n",
       "      <td>1.0</td>\n",
       "      <td>1.0</td>\n",
       "      <td>0.000000</td>\n",
       "    </tr>\n",
       "    <tr>\n",
       "      <td>2</td>\n",
       "      <td>Ganges</td>\n",
       "      <td>249213.0</td>\n",
       "      <td>574901.0</td>\n",
       "      <td>-56.651145</td>\n",
       "      <td>3.0</td>\n",
       "      <td>3.0</td>\n",
       "      <td>0.000000</td>\n",
       "    </tr>\n",
       "    <tr>\n",
       "      <td>3</td>\n",
       "      <td>Grape</td>\n",
       "      <td>0.0</td>\n",
       "      <td>718932.0</td>\n",
       "      <td>-100.000000</td>\n",
       "      <td>0.0</td>\n",
       "      <td>1.0</td>\n",
       "      <td>-100.000000</td>\n",
       "    </tr>\n",
       "    <tr>\n",
       "      <td>4</td>\n",
       "      <td>Kiwi</td>\n",
       "      <td>504376.0</td>\n",
       "      <td>339019.0</td>\n",
       "      <td>48.775142</td>\n",
       "      <td>4.0</td>\n",
       "      <td>3.0</td>\n",
       "      <td>33.333333</td>\n",
       "    </tr>\n",
       "    <tr>\n",
       "      <td>5</td>\n",
       "      <td>Mississippi</td>\n",
       "      <td>450680.0</td>\n",
       "      <td>414979.0</td>\n",
       "      <td>8.603086</td>\n",
       "      <td>3.0</td>\n",
       "      <td>4.0</td>\n",
       "      <td>-25.000000</td>\n",
       "    </tr>\n",
       "    <tr>\n",
       "      <td>6</td>\n",
       "      <td>Nile</td>\n",
       "      <td>485294.0</td>\n",
       "      <td>299326.0</td>\n",
       "      <td>62.128916</td>\n",
       "      <td>1.0</td>\n",
       "      <td>1.0</td>\n",
       "      <td>0.000000</td>\n",
       "    </tr>\n",
       "    <tr>\n",
       "      <td>7</td>\n",
       "      <td>Orange</td>\n",
       "      <td>581300.0</td>\n",
       "      <td>460682.0</td>\n",
       "      <td>26.182486</td>\n",
       "      <td>4.0</td>\n",
       "      <td>4.0</td>\n",
       "      <td>0.000000</td>\n",
       "    </tr>\n",
       "    <tr>\n",
       "      <td>8</td>\n",
       "      <td>Pear</td>\n",
       "      <td>2398582.0</td>\n",
       "      <td>609001.0</td>\n",
       "      <td>293.855183</td>\n",
       "      <td>1.0</td>\n",
       "      <td>1.0</td>\n",
       "      <td>0.000000</td>\n",
       "    </tr>\n",
       "    <tr>\n",
       "      <td>9</td>\n",
       "      <td>Yangtze</td>\n",
       "      <td>1270916.0</td>\n",
       "      <td>1561540.0</td>\n",
       "      <td>-18.611371</td>\n",
       "      <td>1.0</td>\n",
       "      <td>1.0</td>\n",
       "      <td>0.000000</td>\n",
       "    </tr>\n",
       "  </tbody>\n",
       "</table>\n",
       "</div>"
      ],
      "text/plain": [
       "       company  revenue_current year  revenue_last year  yoy_revenue_chg  \\\n",
       "0       Amazon              174765.0           388213.0       -54.982188   \n",
       "1        Apple              896148.0           649654.0        37.942351   \n",
       "2       Ganges              249213.0           574901.0       -56.651145   \n",
       "3        Grape                   0.0           718932.0      -100.000000   \n",
       "4         Kiwi              504376.0           339019.0        48.775142   \n",
       "5  Mississippi              450680.0           414979.0         8.603086   \n",
       "6         Nile              485294.0           299326.0        62.128916   \n",
       "7       Orange              581300.0           460682.0        26.182486   \n",
       "8         Pear             2398582.0           609001.0       293.855183   \n",
       "9      Yangtze             1270916.0          1561540.0       -18.611371   \n",
       "\n",
       "   products_current year  products_last year  yoy_products_chg  \n",
       "0                    3.0                 4.0        -25.000000  \n",
       "1                    1.0                 1.0          0.000000  \n",
       "2                    3.0                 3.0          0.000000  \n",
       "3                    0.0                 1.0       -100.000000  \n",
       "4                    4.0                 3.0         33.333333  \n",
       "5                    3.0                 4.0        -25.000000  \n",
       "6                    1.0                 1.0          0.000000  \n",
       "7                    4.0                 4.0          0.000000  \n",
       "8                    1.0                 1.0          0.000000  \n",
       "9                    1.0                 1.0          0.000000  "
      ]
     },
     "execution_count": 35,
     "metadata": {},
     "output_type": "execute_result"
    }
   ],
   "source": [
    "# merge the revenue and product count dataframes\n",
    "cust_df = pd.merge(cust_rev_df, cust_prod_df)\n",
    "cust_df"
   ]
  },
  {
   "cell_type": "code",
   "execution_count": 36,
   "metadata": {
    "ExecuteTime": {
     "end_time": "2021-01-05T18:51:40.508104Z",
     "start_time": "2021-01-05T18:51:40.071868Z"
    }
   },
   "outputs": [
    {
     "data": {
      "image/png": "[encoded data removed]",
      "text/plain": [
       "<Figure size 1080x576 with 1 Axes>"
      ]
     },
     "metadata": {
      "needs_background": "light"
     },
     "output_type": "display_data"
    }
   ],
   "source": [
    "# basic plot showing revenue for current year vs YOY revenue change\n",
    "plt.figure(figsize=(15,8))\n",
    "g = sns.scatterplot(x='revenue_current year', y='yoy_revenue_chg', data=cust_df, hue='company', s=1000)"
   ]
  },
  {
   "cell_type": "code",
   "execution_count": 37,
   "metadata": {
    "ExecuteTime": {
     "end_time": "2021-01-05T18:51:40.528051Z",
     "start_time": "2021-01-05T18:51:40.511098Z"
    }
   },
   "outputs": [
    {
     "data": {
      "text/html": [
       "<div>\n",
       "<style scoped>\n",
       "    .dataframe tbody tr th:only-of-type {\n",
       "        vertical-align: middle;\n",
       "    }\n",
       "\n",
       "    .dataframe tbody tr th {\n",
       "        vertical-align: top;\n",
       "    }\n",
       "\n",
       "    .dataframe thead th {\n",
       "        text-align: right;\n",
       "    }\n",
       "</style>\n",
       "<table border=\"1\" class=\"dataframe\">\n",
       "  <thead>\n",
       "    <tr style=\"text-align: right;\">\n",
       "      <th></th>\n",
       "      <th>company</th>\n",
       "      <th>period</th>\n",
       "      <th>revenue</th>\n",
       "    </tr>\n",
       "  </thead>\n",
       "  <tbody>\n",
       "    <tr>\n",
       "      <td>10</td>\n",
       "      <td>Amazon</td>\n",
       "      <td>last year</td>\n",
       "      <td>388213.0</td>\n",
       "    </tr>\n",
       "    <tr>\n",
       "      <td>11</td>\n",
       "      <td>Apple</td>\n",
       "      <td>last year</td>\n",
       "      <td>649654.0</td>\n",
       "    </tr>\n",
       "  </tbody>\n",
       "</table>\n",
       "</div>"
      ],
      "text/plain": [
       "   company     period   revenue\n",
       "10  Amazon  last year  388213.0\n",
       "11   Apple  last year  649654.0"
      ]
     },
     "execution_count": 37,
     "metadata": {},
     "output_type": "execute_result"
    }
   ],
   "source": [
    "# unpivot for seaborn facet grid\n",
    "melted_cust_df = pd.melt(cust_df, id_vars=['company'], value_vars=['revenue_current year', 'revenue_last year'])\n",
    "melted_cust_df = melted_cust_df.sort_values('variable', ascending=False)\n",
    "melted_cust_df = melted_cust_df.rename(columns={'variable':'period', 'value':'revenue'})\n",
    "melted_cust_df['period'] = melted_cust_df['period'].str.replace('revenue_','')\n",
    "melted_cust_df.head(2)"
   ]
  },
  {
   "cell_type": "code",
   "execution_count": 38,
   "metadata": {
    "ExecuteTime": {
     "end_time": "2021-01-05T18:51:42.041041Z",
     "start_time": "2021-01-05T18:51:40.530057Z"
    }
   },
   "outputs": [
    {
     "name": "stderr",
     "output_type": "stream",
     "text": [
      "C:\\Users\\adamj\\Anaconda3\\lib\\site-packages\\seaborn\\axisgrid.py:715: UserWarning: Using the barplot function without specifying `order` is likely to produce an incorrect plot.\n",
      "  warnings.warn(warning)\n"
     ]
    },
    {
     "data": {
      "image/png": "[encoded data removed]",
      "text/plain": [
       "<Figure size 864x648 with 10 Axes>"
      ]
     },
     "metadata": {
      "needs_background": "light"
     },
     "output_type": "display_data"
    }
   ],
   "source": [
    "# YOY revenue bar plot by company\n",
    "g = sns.FacetGrid(melted_cust_df, col='company', col_wrap=4, hue='company')\n",
    "g = g.map(sns.barplot, 'period', 'revenue')"
   ]
  },
  {
   "cell_type": "markdown",
   "metadata": {},
   "source": [
    "### Company Highlights\n",
    "Company highlights and monthly analysis"
   ]
  },
  {
   "cell_type": "code",
   "execution_count": 39,
   "metadata": {
    "ExecuteTime": {
     "end_time": "2021-01-05T18:51:42.048990Z",
     "start_time": "2021-01-05T18:51:42.043031Z"
    }
   },
   "outputs": [],
   "source": [
    "def company_monthly_perf(df, company):\n",
    "    \"\"\"\n",
    "    Returns a companies monthly revenue by month.\n",
    "        \n",
    "    Parameters:\n",
    "        df: the dataframe being used to derive monthly data from.\n",
    "        company: the company you want monthly revenue for\n",
    "    \"\"\"\n",
    "    \n",
    "    # filter by the company and group revenue by month\n",
    "    c_df = df.loc[(last_24mos_df['company'] == company)]\n",
    "    c_df = c_df.groupby(by=['date']).agg({'revenue': 'sum'}).reset_index()\n",
    "    \n",
    "    # get all months to merge with c_df (in case there are months with no revenue, this will show 0 for that month)\n",
    "    m_df = df.groupby(by=df['date']).agg({'company': 'count'}).reset_index().drop(columns=['company'])\n",
    "    \n",
    "    # merge the two dataframes, filling NaN months with 0 for revenue\n",
    "    cm_df = pd.merge(c_df, m_df, how='outer').fillna(0)\n",
    "    cm_df = cm_df.sort_values('date', ascending=True)\n",
    "    return cm_df"
   ]
  },
  {
   "cell_type": "code",
   "execution_count": 40,
   "metadata": {
    "ExecuteTime": {
     "end_time": "2021-01-05T18:51:42.079942Z",
     "start_time": "2021-01-05T18:51:42.050984Z"
    }
   },
   "outputs": [
    {
     "data": {
      "text/html": [
       "<div>\n",
       "<style scoped>\n",
       "    .dataframe tbody tr th:only-of-type {\n",
       "        vertical-align: middle;\n",
       "    }\n",
       "\n",
       "    .dataframe tbody tr th {\n",
       "        vertical-align: top;\n",
       "    }\n",
       "\n",
       "    .dataframe thead th {\n",
       "        text-align: right;\n",
       "    }\n",
       "</style>\n",
       "<table border=\"1\" class=\"dataframe\">\n",
       "  <thead>\n",
       "    <tr style=\"text-align: right;\">\n",
       "      <th></th>\n",
       "      <th>date</th>\n",
       "      <th>revenue</th>\n",
       "    </tr>\n",
       "  </thead>\n",
       "  <tbody>\n",
       "    <tr>\n",
       "      <td>16</td>\n",
       "      <td>2017-10-01</td>\n",
       "      <td>0.0</td>\n",
       "    </tr>\n",
       "    <tr>\n",
       "      <td>17</td>\n",
       "      <td>2017-11-01</td>\n",
       "      <td>0.0</td>\n",
       "    </tr>\n",
       "  </tbody>\n",
       "</table>\n",
       "</div>"
      ],
      "text/plain": [
       "         date  revenue\n",
       "16 2017-10-01      0.0\n",
       "17 2017-11-01      0.0"
      ]
     },
     "execution_count": 40,
     "metadata": {},
     "output_type": "execute_result"
    }
   ],
   "source": [
    "pear_mo_df = company_monthly_perf(last_24mos_df, 'Pear')\n",
    "pear_mo_df.head(2)"
   ]
  },
  {
   "cell_type": "code",
   "execution_count": 41,
   "metadata": {
    "ExecuteTime": {
     "end_time": "2021-01-05T18:51:42.103877Z",
     "start_time": "2021-01-05T18:51:42.081911Z"
    }
   },
   "outputs": [
    {
     "data": {
      "text/html": [
       "<div>\n",
       "<style scoped>\n",
       "    .dataframe tbody tr th:only-of-type {\n",
       "        vertical-align: middle;\n",
       "    }\n",
       "\n",
       "    .dataframe tbody tr th {\n",
       "        vertical-align: top;\n",
       "    }\n",
       "\n",
       "    .dataframe thead th {\n",
       "        text-align: right;\n",
       "    }\n",
       "</style>\n",
       "<table border=\"1\" class=\"dataframe\">\n",
       "  <thead>\n",
       "    <tr style=\"text-align: right;\">\n",
       "      <th></th>\n",
       "      <th>date</th>\n",
       "      <th>revenue</th>\n",
       "    </tr>\n",
       "  </thead>\n",
       "  <tbody>\n",
       "    <tr>\n",
       "      <td>7</td>\n",
       "      <td>2017-10-01</td>\n",
       "      <td>0.0</td>\n",
       "    </tr>\n",
       "    <tr>\n",
       "      <td>0</td>\n",
       "      <td>2017-11-01</td>\n",
       "      <td>293.0</td>\n",
       "    </tr>\n",
       "  </tbody>\n",
       "</table>\n",
       "</div>"
      ],
      "text/plain": [
       "        date  revenue\n",
       "7 2017-10-01      0.0\n",
       "0 2017-11-01    293.0"
      ]
     },
     "execution_count": 41,
     "metadata": {},
     "output_type": "execute_result"
    }
   ],
   "source": [
    "grape_mo_df = company_monthly_perf(last_24mos_df, 'Grape')\n",
    "grape_mo_df.head(2)"
   ]
  },
  {
   "cell_type": "code",
   "execution_count": 42,
   "metadata": {
    "ExecuteTime": {
     "end_time": "2021-01-05T18:51:42.135757Z",
     "start_time": "2021-01-05T18:51:42.106837Z"
    }
   },
   "outputs": [
    {
     "data": {
      "text/html": [
       "<div>\n",
       "<style scoped>\n",
       "    .dataframe tbody tr th:only-of-type {\n",
       "        vertical-align: middle;\n",
       "    }\n",
       "\n",
       "    .dataframe tbody tr th {\n",
       "        vertical-align: top;\n",
       "    }\n",
       "\n",
       "    .dataframe thead th {\n",
       "        text-align: right;\n",
       "    }\n",
       "</style>\n",
       "<table border=\"1\" class=\"dataframe\">\n",
       "  <thead>\n",
       "    <tr style=\"text-align: right;\">\n",
       "      <th></th>\n",
       "      <th>date</th>\n",
       "      <th>revenue</th>\n",
       "    </tr>\n",
       "  </thead>\n",
       "  <tbody>\n",
       "    <tr>\n",
       "      <td>0</td>\n",
       "      <td>2017-10-01</td>\n",
       "      <td>122918</td>\n",
       "    </tr>\n",
       "    <tr>\n",
       "      <td>1</td>\n",
       "      <td>2017-11-01</td>\n",
       "      <td>130551</td>\n",
       "    </tr>\n",
       "  </tbody>\n",
       "</table>\n",
       "</div>"
      ],
      "text/plain": [
       "        date  revenue\n",
       "0 2017-10-01   122918\n",
       "1 2017-11-01   130551"
      ]
     },
     "execution_count": 42,
     "metadata": {},
     "output_type": "execute_result"
    }
   ],
   "source": [
    "yangtze_mo_df = company_monthly_perf(last_24mos_df, 'Yangtze')\n",
    "yangtze_mo_df.head(2)"
   ]
  },
  {
   "cell_type": "code",
   "execution_count": 43,
   "metadata": {
    "ExecuteTime": {
     "end_time": "2021-01-05T18:51:42.549653Z",
     "start_time": "2021-01-05T18:51:42.139747Z"
    }
   },
   "outputs": [
    {
     "data": {
      "image/png": "[encoded data removed]",
      "text/plain": [
       "<Figure size 720x540 with 1 Axes>"
      ]
     },
     "metadata": {
      "needs_background": "light"
     },
     "output_type": "display_data"
    }
   ],
   "source": [
    "fig, axs = plt.subplots()\n",
    "fig.set_size_inches(10, 7.5)\n",
    "plt.plot(pear_mo_df['date'], pear_mo_df['revenue'], marker='o', c=colors[0])\n",
    "plt.plot(grape_mo_df['date'], grape_mo_df['revenue'], marker='o', c=colors[1])\n",
    "plt.plot(yangtze_mo_df['date'], yangtze_mo_df['revenue'], marker='o', c=colors[2])\n",
    "\n",
    "plt.title(\"Grape and Pear Monthly Revenue\", size=18)\n",
    "plt.ylabel(\"Monthly Revenue\")\n",
    "plt.xlabel(\"Month\")\n",
    "plt.grid(axis='y')\n",
    "plt.legend(['Pear', 'Grape', 'Yangtze'],loc=\"best\", fontsize=\"large\", fancybox=True)\n",
    "plt.show()"
   ]
  },
  {
   "cell_type": "markdown",
   "metadata": {},
   "source": [
    "### Customer Spend by Month"
   ]
  },
  {
   "cell_type": "code",
   "execution_count": 44,
   "metadata": {
    "ExecuteTime": {
     "end_time": "2021-01-05T18:51:42.582565Z",
     "start_time": "2021-01-05T18:51:42.552647Z"
    }
   },
   "outputs": [
    {
     "data": {
      "text/html": [
       "<div>\n",
       "<style scoped>\n",
       "    .dataframe tbody tr th:only-of-type {\n",
       "        vertical-align: middle;\n",
       "    }\n",
       "\n",
       "    .dataframe tbody tr th {\n",
       "        vertical-align: top;\n",
       "    }\n",
       "\n",
       "    .dataframe thead th {\n",
       "        text-align: right;\n",
       "    }\n",
       "</style>\n",
       "<table border=\"1\" class=\"dataframe\">\n",
       "  <thead>\n",
       "    <tr style=\"text-align: right;\">\n",
       "      <th></th>\n",
       "      <th>date</th>\n",
       "      <th>company</th>\n",
       "      <th>revenue</th>\n",
       "    </tr>\n",
       "  </thead>\n",
       "  <tbody>\n",
       "    <tr>\n",
       "      <td>0</td>\n",
       "      <td>2017-10-01</td>\n",
       "      <td>Amazon</td>\n",
       "      <td>36844</td>\n",
       "    </tr>\n",
       "    <tr>\n",
       "      <td>1</td>\n",
       "      <td>2017-10-01</td>\n",
       "      <td>Apple</td>\n",
       "      <td>13817</td>\n",
       "    </tr>\n",
       "    <tr>\n",
       "      <td>2</td>\n",
       "      <td>2017-10-01</td>\n",
       "      <td>Ganges</td>\n",
       "      <td>52854</td>\n",
       "    </tr>\n",
       "    <tr>\n",
       "      <td>3</td>\n",
       "      <td>2017-10-01</td>\n",
       "      <td>Kiwi</td>\n",
       "      <td>16006</td>\n",
       "    </tr>\n",
       "    <tr>\n",
       "      <td>4</td>\n",
       "      <td>2017-10-01</td>\n",
       "      <td>Mississippi</td>\n",
       "      <td>42462</td>\n",
       "    </tr>\n",
       "    <tr>\n",
       "      <td>...</td>\n",
       "      <td>...</td>\n",
       "      <td>...</td>\n",
       "      <td>...</td>\n",
       "    </tr>\n",
       "    <tr>\n",
       "      <td>201</td>\n",
       "      <td>2019-09-01</td>\n",
       "      <td>Kiwi</td>\n",
       "      <td>16250</td>\n",
       "    </tr>\n",
       "    <tr>\n",
       "      <td>202</td>\n",
       "      <td>2019-09-01</td>\n",
       "      <td>Mississippi</td>\n",
       "      <td>5636</td>\n",
       "    </tr>\n",
       "    <tr>\n",
       "      <td>203</td>\n",
       "      <td>2019-09-01</td>\n",
       "      <td>Orange</td>\n",
       "      <td>8489</td>\n",
       "    </tr>\n",
       "    <tr>\n",
       "      <td>204</td>\n",
       "      <td>2019-09-01</td>\n",
       "      <td>Pear</td>\n",
       "      <td>55194</td>\n",
       "    </tr>\n",
       "    <tr>\n",
       "      <td>205</td>\n",
       "      <td>2019-09-01</td>\n",
       "      <td>Yangtze</td>\n",
       "      <td>34061</td>\n",
       "    </tr>\n",
       "  </tbody>\n",
       "</table>\n",
       "<p>206 rows × 3 columns</p>\n",
       "</div>"
      ],
      "text/plain": [
       "          date      company  revenue\n",
       "0   2017-10-01       Amazon    36844\n",
       "1   2017-10-01        Apple    13817\n",
       "2   2017-10-01       Ganges    52854\n",
       "3   2017-10-01         Kiwi    16006\n",
       "4   2017-10-01  Mississippi    42462\n",
       "..         ...          ...      ...\n",
       "201 2019-09-01         Kiwi    16250\n",
       "202 2019-09-01  Mississippi     5636\n",
       "203 2019-09-01       Orange     8489\n",
       "204 2019-09-01         Pear    55194\n",
       "205 2019-09-01      Yangtze    34061\n",
       "\n",
       "[206 rows x 3 columns]"
      ]
     },
     "execution_count": 44,
     "metadata": {},
     "output_type": "execute_result"
    }
   ],
   "source": [
    "mon_rev_df = last_24mos_df.groupby(by=['date', 'company']).agg({'revenue': 'sum'}).reset_index()\n",
    "mon_rev_df"
   ]
  },
  {
   "cell_type": "code",
   "execution_count": 45,
   "metadata": {
    "ExecuteTime": {
     "end_time": "2021-01-05T18:51:42.973131Z",
     "start_time": "2021-01-05T18:51:42.585556Z"
    }
   },
   "outputs": [
    {
     "data": {
      "image/png": "[encoded data removed]",
      "text/plain": [
       "<Figure size 1080x576 with 1 Axes>"
      ]
     },
     "metadata": {
      "needs_background": "light"
     },
     "output_type": "display_data"
    }
   ],
   "source": [
    "plt.figure(figsize=(15,8))\n",
    "ax = sns.swarmplot(x=\"company\", y=\"revenue\", data=mon_rev_df, dodge=True)\n",
    "ax = sns.boxplot(x=\"company\", y=\"revenue\", data=mon_rev_df, whis=np.inf, boxprops=dict(alpha=.15))\n",
    "ax.set_ylabel(\"Revenue\", fontname=\"Arial\", fontsize=14)\n",
    "ax.set_xlabel(\"Company\", fontname=\"Arial\", fontsize=14)\n",
    "ax.set_title(\"Monthly Spend by Company\", fontname='Arial', fontsize=18)\n",
    "plt.show()"
   ]
  },
  {
   "cell_type": "markdown",
   "metadata": {},
   "source": [
    "## Product Analysis\n",
    "Will use the most recent rolling 24 months to hightlight current status and YOY change for products. Show the following product views:\n",
    " - Total revenue\n",
    " - YOY revenue change\n",
    " - Number of customer per product\n",
    " - YOY change in number of customers"
   ]
  },
  {
   "cell_type": "markdown",
   "metadata": {},
   "source": [
    "### Year Over Year"
   ]
  },
  {
   "cell_type": "code",
   "execution_count": 46,
   "metadata": {
    "ExecuteTime": {
     "end_time": "2021-01-05T18:51:43.001056Z",
     "start_time": "2021-01-05T18:51:42.975125Z"
    }
   },
   "outputs": [
    {
     "data": {
      "text/html": [
       "<div>\n",
       "<style scoped>\n",
       "    .dataframe tbody tr th:only-of-type {\n",
       "        vertical-align: middle;\n",
       "    }\n",
       "\n",
       "    .dataframe tbody tr th {\n",
       "        vertical-align: top;\n",
       "    }\n",
       "\n",
       "    .dataframe thead th {\n",
       "        text-align: right;\n",
       "    }\n",
       "</style>\n",
       "<table border=\"1\" class=\"dataframe\">\n",
       "  <thead>\n",
       "    <tr style=\"text-align: right;\">\n",
       "      <th></th>\n",
       "      <th>product</th>\n",
       "      <th>revenue_current year</th>\n",
       "      <th>revenue_last year</th>\n",
       "      <th>yoy_revenue_chg</th>\n",
       "    </tr>\n",
       "  </thead>\n",
       "  <tbody>\n",
       "    <tr>\n",
       "      <td>0</td>\n",
       "      <td>Core</td>\n",
       "      <td>6114126.0</td>\n",
       "      <td>5379468.0</td>\n",
       "      <td>13.656704</td>\n",
       "    </tr>\n",
       "    <tr>\n",
       "      <td>2</td>\n",
       "      <td>New Business</td>\n",
       "      <td>1158.0</td>\n",
       "      <td>16142.0</td>\n",
       "      <td>-92.826168</td>\n",
       "    </tr>\n",
       "    <tr>\n",
       "      <td>3</td>\n",
       "      <td>Social</td>\n",
       "      <td>745213.0</td>\n",
       "      <td>513425.0</td>\n",
       "      <td>45.145445</td>\n",
       "    </tr>\n",
       "    <tr>\n",
       "      <td>4</td>\n",
       "      <td>Video Platform</td>\n",
       "      <td>150554.0</td>\n",
       "      <td>107212.0</td>\n",
       "      <td>40.426445</td>\n",
       "    </tr>\n",
       "  </tbody>\n",
       "</table>\n",
       "</div>"
      ],
      "text/plain": [
       "          product  revenue_current year  revenue_last year  yoy_revenue_chg\n",
       "0            Core             6114126.0          5379468.0        13.656704\n",
       "2    New Business                1158.0            16142.0       -92.826168\n",
       "3          Social              745213.0           513425.0        45.145445\n",
       "4  Video Platform              150554.0           107212.0        40.426445"
      ]
     },
     "execution_count": 46,
     "metadata": {},
     "output_type": "execute_result"
    }
   ],
   "source": [
    "# get year over year product revenue\n",
    "prod_rev_pivot_df = last_24mos_df.pivot_table(index='product', columns='yoy_period', aggfunc={'revenue': 'sum'}).fillna(0)\n",
    "prod_rev_df = flatten_cols(prod_rev_pivot_df)\n",
    "prod_rev_df['yoy_revenue_chg'] = (prod_rev_df['revenue_current year'] / prod_rev_df['revenue_last year'] - 1) * 100\n",
    "prod_rev_df = prod_rev_df.reset_index()\n",
    "\n",
    "# drop experiment product type\n",
    "prod_rev_df = prod_rev_df.replace([np.inf, -np.inf], np.nan).dropna()\n",
    "\n",
    "prod_rev_df"
   ]
  },
  {
   "cell_type": "code",
   "execution_count": 47,
   "metadata": {
    "ExecuteTime": {
     "end_time": "2021-01-05T18:51:43.049926Z",
     "start_time": "2021-01-05T18:51:43.003052Z"
    }
   },
   "outputs": [
    {
     "data": {
      "text/html": [
       "<div>\n",
       "<style scoped>\n",
       "    .dataframe tbody tr th:only-of-type {\n",
       "        vertical-align: middle;\n",
       "    }\n",
       "\n",
       "    .dataframe tbody tr th {\n",
       "        vertical-align: top;\n",
       "    }\n",
       "\n",
       "    .dataframe thead th {\n",
       "        text-align: right;\n",
       "    }\n",
       "</style>\n",
       "<table border=\"1\" class=\"dataframe\">\n",
       "  <thead>\n",
       "    <tr style=\"text-align: right;\">\n",
       "      <th>yoy_period</th>\n",
       "      <th>product</th>\n",
       "      <th>customers_current year</th>\n",
       "      <th>customers_last year</th>\n",
       "      <th>yoy_customer_chg</th>\n",
       "    </tr>\n",
       "  </thead>\n",
       "  <tbody>\n",
       "    <tr>\n",
       "      <td>0</td>\n",
       "      <td>Core</td>\n",
       "      <td>9.0</td>\n",
       "      <td>10.0</td>\n",
       "      <td>-10.000000</td>\n",
       "    </tr>\n",
       "    <tr>\n",
       "      <td>2</td>\n",
       "      <td>New Business</td>\n",
       "      <td>1.0</td>\n",
       "      <td>3.0</td>\n",
       "      <td>-66.666667</td>\n",
       "    </tr>\n",
       "    <tr>\n",
       "      <td>3</td>\n",
       "      <td>Social</td>\n",
       "      <td>5.0</td>\n",
       "      <td>5.0</td>\n",
       "      <td>0.000000</td>\n",
       "    </tr>\n",
       "    <tr>\n",
       "      <td>4</td>\n",
       "      <td>Video Platform</td>\n",
       "      <td>5.0</td>\n",
       "      <td>5.0</td>\n",
       "      <td>0.000000</td>\n",
       "    </tr>\n",
       "  </tbody>\n",
       "</table>\n",
       "</div>"
      ],
      "text/plain": [
       "yoy_period         product  customers_current year  customers_last year  \\\n",
       "0                     Core                     9.0                 10.0   \n",
       "2             New Business                     1.0                  3.0   \n",
       "3                   Social                     5.0                  5.0   \n",
       "4           Video Platform                     5.0                  5.0   \n",
       "\n",
       "yoy_period  yoy_customer_chg  \n",
       "0                 -10.000000  \n",
       "2                 -66.666667  \n",
       "3                   0.000000  \n",
       "4                   0.000000  "
      ]
     },
     "execution_count": 47,
     "metadata": {},
     "output_type": "execute_result"
    }
   ],
   "source": [
    "# get year over year customer count\n",
    "prod_cust_pivot_df = last_24mos_df.pivot_table(index='product', columns='yoy_period', values='company',\n",
    "                                              aggfunc=pd.Series.nunique).fillna(0)\n",
    "\n",
    "# columns editing\n",
    "prod_cust_df = prod_cust_pivot_df.rename(columns={'current year': 'customers_current year',\n",
    "                                                'last year': 'customers_last year'})\n",
    "cust_prod_df.columns.name = None\n",
    "\n",
    "# add yoy change\n",
    "prod_cust_df['yoy_customer_chg'] = (prod_cust_df['customers_current year'] / prod_cust_df['customers_last year'] - 1) * 100\n",
    "prod_cust_df = prod_cust_df.reset_index()\n",
    "\n",
    "# drop experiment product type\n",
    "prod_cust_df = prod_cust_df.replace([np.inf, -np.inf], np.nan).dropna()\n",
    "\n",
    "prod_cust_df"
   ]
  },
  {
   "cell_type": "code",
   "execution_count": 48,
   "metadata": {
    "ExecuteTime": {
     "end_time": "2021-01-05T18:51:43.073862Z",
     "start_time": "2021-01-05T18:51:43.052918Z"
    }
   },
   "outputs": [
    {
     "data": {
      "text/html": [
       "<div>\n",
       "<style scoped>\n",
       "    .dataframe tbody tr th:only-of-type {\n",
       "        vertical-align: middle;\n",
       "    }\n",
       "\n",
       "    .dataframe tbody tr th {\n",
       "        vertical-align: top;\n",
       "    }\n",
       "\n",
       "    .dataframe thead th {\n",
       "        text-align: right;\n",
       "    }\n",
       "</style>\n",
       "<table border=\"1\" class=\"dataframe\">\n",
       "  <thead>\n",
       "    <tr style=\"text-align: right;\">\n",
       "      <th></th>\n",
       "      <th>product</th>\n",
       "      <th>revenue_current year</th>\n",
       "      <th>revenue_last year</th>\n",
       "      <th>yoy_revenue_chg</th>\n",
       "      <th>customers_current year</th>\n",
       "      <th>customers_last year</th>\n",
       "      <th>yoy_customer_chg</th>\n",
       "    </tr>\n",
       "  </thead>\n",
       "  <tbody>\n",
       "    <tr>\n",
       "      <td>0</td>\n",
       "      <td>Core</td>\n",
       "      <td>6114126.0</td>\n",
       "      <td>5379468.0</td>\n",
       "      <td>13.656704</td>\n",
       "      <td>9.0</td>\n",
       "      <td>10.0</td>\n",
       "      <td>-10.000000</td>\n",
       "    </tr>\n",
       "    <tr>\n",
       "      <td>1</td>\n",
       "      <td>New Business</td>\n",
       "      <td>1158.0</td>\n",
       "      <td>16142.0</td>\n",
       "      <td>-92.826168</td>\n",
       "      <td>1.0</td>\n",
       "      <td>3.0</td>\n",
       "      <td>-66.666667</td>\n",
       "    </tr>\n",
       "    <tr>\n",
       "      <td>2</td>\n",
       "      <td>Social</td>\n",
       "      <td>745213.0</td>\n",
       "      <td>513425.0</td>\n",
       "      <td>45.145445</td>\n",
       "      <td>5.0</td>\n",
       "      <td>5.0</td>\n",
       "      <td>0.000000</td>\n",
       "    </tr>\n",
       "    <tr>\n",
       "      <td>3</td>\n",
       "      <td>Video Platform</td>\n",
       "      <td>150554.0</td>\n",
       "      <td>107212.0</td>\n",
       "      <td>40.426445</td>\n",
       "      <td>5.0</td>\n",
       "      <td>5.0</td>\n",
       "      <td>0.000000</td>\n",
       "    </tr>\n",
       "  </tbody>\n",
       "</table>\n",
       "</div>"
      ],
      "text/plain": [
       "          product  revenue_current year  revenue_last year  yoy_revenue_chg  \\\n",
       "0            Core             6114126.0          5379468.0        13.656704   \n",
       "1    New Business                1158.0            16142.0       -92.826168   \n",
       "2          Social              745213.0           513425.0        45.145445   \n",
       "3  Video Platform              150554.0           107212.0        40.426445   \n",
       "\n",
       "   customers_current year  customers_last year  yoy_customer_chg  \n",
       "0                     9.0                 10.0        -10.000000  \n",
       "1                     1.0                  3.0        -66.666667  \n",
       "2                     5.0                  5.0          0.000000  \n",
       "3                     5.0                  5.0          0.000000  "
      ]
     },
     "execution_count": 48,
     "metadata": {},
     "output_type": "execute_result"
    }
   ],
   "source": [
    "# merge the revenue and customer count dataframes\n",
    "prod_df = pd.merge(prod_rev_df, prod_cust_df)\n",
    "prod_df"
   ]
  },
  {
   "cell_type": "code",
   "execution_count": 49,
   "metadata": {
    "ExecuteTime": {
     "end_time": "2021-01-05T18:51:43.418217Z",
     "start_time": "2021-01-05T18:51:43.076855Z"
    }
   },
   "outputs": [
    {
     "data": {
      "image/png": "[encoded data removed]",
      "text/plain": [
       "<Figure size 1080x576 with 1 Axes>"
      ]
     },
     "metadata": {
      "needs_background": "light"
     },
     "output_type": "display_data"
    }
   ],
   "source": [
    "# basic plot showing revenue for current year vs YOY revenue change\n",
    "plt.figure(figsize=(15,8))\n",
    "g = sns.scatterplot(x='revenue_current year', y='yoy_revenue_chg', data=prod_df, hue='product', s=1000)"
   ]
  },
  {
   "cell_type": "code",
   "execution_count": 50,
   "metadata": {
    "ExecuteTime": {
     "end_time": "2021-01-05T18:51:43.437168Z",
     "start_time": "2021-01-05T18:51:43.419215Z"
    }
   },
   "outputs": [
    {
     "data": {
      "text/html": [
       "<div>\n",
       "<style scoped>\n",
       "    .dataframe tbody tr th:only-of-type {\n",
       "        vertical-align: middle;\n",
       "    }\n",
       "\n",
       "    .dataframe tbody tr th {\n",
       "        vertical-align: top;\n",
       "    }\n",
       "\n",
       "    .dataframe thead th {\n",
       "        text-align: right;\n",
       "    }\n",
       "</style>\n",
       "<table border=\"1\" class=\"dataframe\">\n",
       "  <thead>\n",
       "    <tr style=\"text-align: right;\">\n",
       "      <th></th>\n",
       "      <th>product</th>\n",
       "      <th>period</th>\n",
       "      <th>revenue</th>\n",
       "    </tr>\n",
       "  </thead>\n",
       "  <tbody>\n",
       "    <tr>\n",
       "      <td>4</td>\n",
       "      <td>Core</td>\n",
       "      <td>last year</td>\n",
       "      <td>5379468.0</td>\n",
       "    </tr>\n",
       "    <tr>\n",
       "      <td>5</td>\n",
       "      <td>New Business</td>\n",
       "      <td>last year</td>\n",
       "      <td>16142.0</td>\n",
       "    </tr>\n",
       "  </tbody>\n",
       "</table>\n",
       "</div>"
      ],
      "text/plain": [
       "        product     period    revenue\n",
       "4          Core  last year  5379468.0\n",
       "5  New Business  last year    16142.0"
      ]
     },
     "execution_count": 50,
     "metadata": {},
     "output_type": "execute_result"
    }
   ],
   "source": [
    "# unpivot for seaborn facet grid\n",
    "melted_prod_df = pd.melt(prod_df, id_vars=['product'], value_vars=['revenue_current year', 'revenue_last year'])\n",
    "melted_prod_df = melted_prod_df.sort_values('variable', ascending=False)\n",
    "melted_prod_df = melted_prod_df.rename(columns={'variable':'period', 'value':'revenue'})\n",
    "melted_prod_df['period'] = melted_prod_df['period'].str.replace('revenue_','')\n",
    "melted_prod_df.head(2)"
   ]
  },
  {
   "cell_type": "code",
   "execution_count": 51,
   "metadata": {
    "ExecuteTime": {
     "end_time": "2021-01-05T18:51:43.941065Z",
     "start_time": "2021-01-05T18:51:43.440163Z"
    }
   },
   "outputs": [
    {
     "name": "stderr",
     "output_type": "stream",
     "text": [
      "C:\\Users\\adamj\\Anaconda3\\lib\\site-packages\\seaborn\\axisgrid.py:715: UserWarning: Using the barplot function without specifying `order` is likely to produce an incorrect plot.\n",
      "  warnings.warn(warning)\n"
     ]
    },
    {
     "data": {
      "image/png": "[encoded data removed]",
      "text/plain": [
       "<Figure size 432x432 with 4 Axes>"
      ]
     },
     "metadata": {
      "needs_background": "light"
     },
     "output_type": "display_data"
    }
   ],
   "source": [
    "# YOY revenue bar plot by company\n",
    "g = sns.FacetGrid(melted_prod_df, col='product', col_wrap=2, hue='product')\n",
    "g = g.map(sns.barplot, 'period', 'revenue')"
   ]
  },
  {
   "cell_type": "markdown",
   "metadata": {
    "ExecuteTime": {
     "end_time": "2021-01-05T17:40:48.135776Z",
     "start_time": "2021-01-05T17:40:48.131833Z"
    }
   },
   "source": [
    "### Video Format"
   ]
  },
  {
   "cell_type": "code",
   "execution_count": 52,
   "metadata": {
    "ExecuteTime": {
     "end_time": "2021-01-05T18:51:43.961978Z",
     "start_time": "2021-01-05T18:51:43.943027Z"
    }
   },
   "outputs": [
    {
     "data": {
      "text/html": [
       "<div>\n",
       "<style scoped>\n",
       "    .dataframe tbody tr th:only-of-type {\n",
       "        vertical-align: middle;\n",
       "    }\n",
       "\n",
       "    .dataframe tbody tr th {\n",
       "        vertical-align: top;\n",
       "    }\n",
       "\n",
       "    .dataframe thead th {\n",
       "        text-align: right;\n",
       "    }\n",
       "</style>\n",
       "<table border=\"1\" class=\"dataframe\">\n",
       "  <thead>\n",
       "    <tr style=\"text-align: right;\">\n",
       "      <th></th>\n",
       "      <th>revenue_Display</th>\n",
       "      <th>revenue_Video</th>\n",
       "      <th>total_revenue</th>\n",
       "    </tr>\n",
       "    <tr>\n",
       "      <th>date</th>\n",
       "      <th></th>\n",
       "      <th></th>\n",
       "      <th></th>\n",
       "    </tr>\n",
       "  </thead>\n",
       "  <tbody>\n",
       "    <tr>\n",
       "      <td>2017-10-01</td>\n",
       "      <td>289580</td>\n",
       "      <td>23662</td>\n",
       "      <td>313242</td>\n",
       "    </tr>\n",
       "    <tr>\n",
       "      <td>2017-11-01</td>\n",
       "      <td>309087</td>\n",
       "      <td>21141</td>\n",
       "      <td>330228</td>\n",
       "    </tr>\n",
       "  </tbody>\n",
       "</table>\n",
       "</div>"
      ],
      "text/plain": [
       "            revenue_Display  revenue_Video  total_revenue\n",
       "date                                                     \n",
       "2017-10-01           289580          23662         313242\n",
       "2017-11-01           309087          21141         330228"
      ]
     },
     "execution_count": 52,
     "metadata": {},
     "output_type": "execute_result"
    }
   ],
   "source": [
    "# create revenue by format df for last 2 years\n",
    "vf_df = last_24mos_df.groupby(by=['date', 'format']).agg({'revenue': 'sum'}).unstack('format')\n",
    "vf_df = flatten_cols(vf_df)\n",
    "vf_df['total_revenue'] = vf_df['revenue_Display'] + vf_df['revenue_Video']\n",
    "vf_df.head(2)"
   ]
  },
  {
   "cell_type": "code",
   "execution_count": 53,
   "metadata": {
    "ExecuteTime": {
     "end_time": "2021-01-05T18:51:43.981924Z",
     "start_time": "2021-01-05T18:51:43.964969Z"
    }
   },
   "outputs": [
    {
     "data": {
      "text/html": [
       "<div>\n",
       "<style scoped>\n",
       "    .dataframe tbody tr th:only-of-type {\n",
       "        vertical-align: middle;\n",
       "    }\n",
       "\n",
       "    .dataframe tbody tr th {\n",
       "        vertical-align: top;\n",
       "    }\n",
       "\n",
       "    .dataframe thead th {\n",
       "        text-align: right;\n",
       "    }\n",
       "</style>\n",
       "<table border=\"1\" class=\"dataframe\">\n",
       "  <thead>\n",
       "    <tr style=\"text-align: right;\">\n",
       "      <th></th>\n",
       "      <th>date</th>\n",
       "      <th>revenue_Display</th>\n",
       "      <th>revenue_Video</th>\n",
       "      <th>total_revenue</th>\n",
       "    </tr>\n",
       "  </thead>\n",
       "  <tbody>\n",
       "    <tr>\n",
       "      <td>0</td>\n",
       "      <td>2017-10-01</td>\n",
       "      <td>92.446096</td>\n",
       "      <td>7.553904</td>\n",
       "      <td>100.0</td>\n",
       "    </tr>\n",
       "    <tr>\n",
       "      <td>1</td>\n",
       "      <td>2017-11-01</td>\n",
       "      <td>93.598060</td>\n",
       "      <td>6.401940</td>\n",
       "      <td>100.0</td>\n",
       "    </tr>\n",
       "  </tbody>\n",
       "</table>\n",
       "</div>"
      ],
      "text/plain": [
       "        date  revenue_Display  revenue_Video  total_revenue\n",
       "0 2017-10-01        92.446096       7.553904          100.0\n",
       "1 2017-11-01        93.598060       6.401940          100.0"
      ]
     },
     "execution_count": 53,
     "metadata": {},
     "output_type": "execute_result"
    }
   ],
   "source": [
    "# convert to percentages\n",
    "vf_perc_df = vf_df.div(vf_df['total_revenue'], axis=0) * 100 \n",
    "vf_perc_df = vf_perc_df.reset_index()\n",
    "vf_perc_df.head(2)"
   ]
  },
  {
   "cell_type": "code",
   "execution_count": 54,
   "metadata": {
    "ExecuteTime": {
     "end_time": "2021-01-05T18:51:44.221307Z",
     "start_time": "2021-01-05T18:51:43.985914Z"
    }
   },
   "outputs": [
    {
     "data": {
      "image/png": "[encoded data removed]",
      "text/plain": [
       "<Figure size 864x288 with 1 Axes>"
      ]
     },
     "metadata": {
      "needs_background": "light"
     },
     "output_type": "display_data"
    }
   ],
   "source": [
    "# plot the percent of revenue from video by month\n",
    "plt.figure(figsize=(12,4))\n",
    "ax1 = plt.bar(vf_perc_df['date'], vf_perc_df['revenue_Video'], width=20, color=colors[0])\n",
    "ax2 = plt.bar(vf_perc_df['date'], vf_perc_df['revenue_Display'], width=20, bottom=vf_perc_df['revenue_Video'], color='#e6e6e6')\n",
    "plt.legend(['Video', 'Display'],loc='upper left', fontsize=12, fancybox=True)\n",
    "plt.show()"
   ]
  },
  {
   "cell_type": "code",
   "execution_count": null,
   "metadata": {},
   "outputs": [],
   "source": []
  }
 ],
 "metadata": {
  "kernelspec": {
   "display_name": "Python 3",
   "language": "python",
   "name": "python3"
  },
  "language_info": {
   "codemirror_mode": {
    "name": "ipython",
    "version": 3
   },
   "file_extension": ".py",
   "mimetype": "text/x-python",
   "name": "python",
   "nbconvert_exporter": "python",
   "pygments_lexer": "ipython3",
   "version": "3.7.4"
  },
  "toc": {
   "base_numbering": 1,
   "nav_menu": {},
   "number_sections": true,
   "sideBar": true,
   "skip_h1_title": false,
   "title_cell": "Table of Contents",
   "title_sidebar": "Contents",
   "toc_cell": false,
   "toc_position": {
    "height": "calc(100% - 180px)",
    "left": "10px",
    "top": "150px",
    "width": "233.2px"
   },
   "toc_section_display": true,
   "toc_window_display": true
  },
  "varInspector": {
   "cols": {
    "lenName": 16,
    "lenType": 16,
    "lenVar": 40
   },
   "kernels_config": {
    "python": {
     "delete_cmd_postfix": "",
     "delete_cmd_prefix": "del ",
     "library": "var_list.py",
     "varRefreshCmd": "print(var_dic_list())"
    },
    "r": {
     "delete_cmd_postfix": ") ",
     "delete_cmd_prefix": "rm(",
     "library": "var_list.r",
     "varRefreshCmd": "cat(var_dic_list()) "
    }
   },
   "types_to_exclude": [
    "module",
    "function",
    "builtin_function_or_method",
    "instance",
    "_Feature"
   ],
   "window_display": false
  }
 },
 "nbformat": 4,
 "nbformat_minor": 2
}
